{
 "cells": [
  {
   "cell_type": "markdown",
   "source": "### KDD Process (ricordare cosa dobbiamo fare (indicate dal prof))\n1. Dataset load and features semantics\n1. Data Cleaning (handle missing values, remove useless variables)\n1. Feature Engineering\n1. Classification Preprocessing (feature reshaping, train/test partitioning)\n1. Parameter Tuning\n1. Perform Classification\n1. Analyze the classification results\n1. Analyze the classification performance\n1. Can we improve the performance using another classifier?",
   "metadata": {
    "cell_id": "00000-b57129da-6707-4107-ab30-56ca27ec21eb",
    "deepnote_cell_type": "markdown"
   }
  },
  {
   "cell_type": "code",
   "metadata": {
    "cell_id": "00001-344ef811-fb0c-432f-8460-fa9e50a198ff",
    "deepnote_to_be_reexecuted": false,
    "source_hash": "14fa2eb7",
    "execution_start": 1621866915666,
    "execution_millis": 1691,
    "deepnote_cell_type": "code"
   },
   "source": "import matplotlib.pylab as plt\nimport numpy as np\nimport pandas as pd\n\nfrom scipy.stats import chi2_contingency\nfrom sklearn.preprocessing import LabelEncoder",
   "execution_count": 1,
   "outputs": []
  },
  {
   "cell_type": "markdown",
   "source": "### Dataset load and features semantics",
   "metadata": {
    "cell_id": "00002-babf9d8b-6101-45a5-8f24-f2be230ad122",
    "deepnote_cell_type": "markdown"
   }
  },
  {
   "cell_type": "code",
   "metadata": {
    "scrolled": false,
    "cell_id": "00003-7ea08fe4-54a4-4967-89f6-516e9b10de1e",
    "deepnote_to_be_reexecuted": false,
    "source_hash": "b374e419",
    "execution_start": 1621866917363,
    "execution_millis": 139,
    "deepnote_cell_type": "code"
   },
   "source": "# load the dataset\ndf = pd.read_csv(\"data/telecom_users.csv\")\ndf.head()",
   "execution_count": 2,
   "outputs": [
    {
     "output_type": "execute_result",
     "execution_count": 2,
     "data": {
      "application/vnd.deepnote.dataframe.v2+json": {
       "row_count": 5,
       "column_count": 22,
       "columns": [
        {
         "name": "Unnamed: 0",
         "dtype": "int64",
         "stats": {
          "unique_count": 5,
          "nan_count": 0,
          "min": "432",
          "max": "6739",
          "histogram": [
           {
            "bin_start": 432,
            "bin_end": 1062.7,
            "count": 1
           },
           {
            "bin_start": 1062.7,
            "bin_end": 1693.4,
            "count": 0
           },
           {
            "bin_start": 1693.4,
            "bin_end": 2324.1000000000004,
            "count": 1
           },
           {
            "bin_start": 2324.1000000000004,
            "bin_end": 2954.8,
            "count": 0
           },
           {
            "bin_start": 2954.8,
            "bin_end": 3585.5,
            "count": 0
           },
           {
            "bin_start": 3585.5,
            "bin_end": 4216.200000000001,
            "count": 0
           },
           {
            "bin_start": 4216.200000000001,
            "bin_end": 4846.900000000001,
            "count": 1
           },
           {
            "bin_start": 4846.900000000001,
            "bin_end": 5477.6,
            "count": 0
           },
           {
            "bin_start": 5477.6,
            "bin_end": 6108.3,
            "count": 0
           },
           {
            "bin_start": 6108.3,
            "bin_end": 6739,
            "count": 2
           }
          ]
         }
        },
        {
         "name": "customerID",
         "dtype": "object",
         "stats": {
          "unique_count": 5,
          "nan_count": 0,
          "categories": [
           {
            "name": "7010-BRBUU",
            "count": 1
           },
           {
            "name": "9688-YGXVR",
            "count": 1
           },
           {
            "name": "3 others",
            "count": 3
           }
          ]
         }
        },
        {
         "name": "gender",
         "dtype": "object",
         "stats": {
          "unique_count": 2,
          "nan_count": 0,
          "categories": [
           {
            "name": "Male",
            "count": 3
           },
           {
            "name": "Female",
            "count": 2
           }
          ]
         }
        },
        {
         "name": "SeniorCitizen",
         "dtype": "int64",
         "stats": {
          "unique_count": 2,
          "nan_count": 0,
          "min": "0",
          "max": "1",
          "histogram": [
           {
            "bin_start": 0,
            "bin_end": 0.1,
            "count": 4
           },
           {
            "bin_start": 0.1,
            "bin_end": 0.2,
            "count": 0
           },
           {
            "bin_start": 0.2,
            "bin_end": 0.30000000000000004,
            "count": 0
           },
           {
            "bin_start": 0.30000000000000004,
            "bin_end": 0.4,
            "count": 0
           },
           {
            "bin_start": 0.4,
            "bin_end": 0.5,
            "count": 0
           },
           {
            "bin_start": 0.5,
            "bin_end": 0.6000000000000001,
            "count": 0
           },
           {
            "bin_start": 0.6000000000000001,
            "bin_end": 0.7000000000000001,
            "count": 0
           },
           {
            "bin_start": 0.7000000000000001,
            "bin_end": 0.8,
            "count": 0
           },
           {
            "bin_start": 0.8,
            "bin_end": 0.9,
            "count": 0
           },
           {
            "bin_start": 0.9,
            "bin_end": 1,
            "count": 1
           }
          ]
         }
        },
        {
         "name": "Partner",
         "dtype": "object",
         "stats": {
          "unique_count": 2,
          "nan_count": 0,
          "categories": [
           {
            "name": "No",
            "count": 3
           },
           {
            "name": "Yes",
            "count": 2
           }
          ]
         }
        },
        {
         "name": "Dependents",
         "dtype": "object",
         "stats": {
          "unique_count": 2,
          "nan_count": 0,
          "categories": [
           {
            "name": "No",
            "count": 4
           },
           {
            "name": "Yes",
            "count": 1
           }
          ]
         }
        },
        {
         "name": "tenure",
         "dtype": "int64",
         "stats": {
          "unique_count": 5,
          "nan_count": 0,
          "min": "2",
          "max": "72",
          "histogram": [
           {
            "bin_start": 2,
            "bin_end": 9,
            "count": 2
           },
           {
            "bin_start": 9,
            "bin_end": 16,
            "count": 0
           },
           {
            "bin_start": 16,
            "bin_end": 23,
            "count": 0
           },
           {
            "bin_start": 23,
            "bin_end": 30,
            "count": 0
           },
           {
            "bin_start": 30,
            "bin_end": 37,
            "count": 0
           },
           {
            "bin_start": 37,
            "bin_end": 44,
            "count": 1
           },
           {
            "bin_start": 44,
            "bin_end": 51,
            "count": 1
           },
           {
            "bin_start": 51,
            "bin_end": 58,
            "count": 0
           },
           {
            "bin_start": 58,
            "bin_end": 65,
            "count": 0
           },
           {
            "bin_start": 65,
            "bin_end": 72,
            "count": 1
           }
          ]
         }
        },
        {
         "name": "PhoneService",
         "dtype": "object",
         "stats": {
          "unique_count": 1,
          "nan_count": 0,
          "categories": [
           {
            "name": "Yes",
            "count": 5
           }
          ]
         }
        },
        {
         "name": "MultipleLines",
         "dtype": "object",
         "stats": {
          "unique_count": 2,
          "nan_count": 0,
          "categories": [
           {
            "name": "No",
            "count": 3
           },
           {
            "name": "Yes",
            "count": 2
           }
          ]
         }
        },
        {
         "name": "InternetService",
         "dtype": "object",
         "stats": {
          "unique_count": 3,
          "nan_count": 0,
          "categories": [
           {
            "name": "Fiber optic",
            "count": 2
           },
           {
            "name": "DSL",
            "count": 2
           },
           {
            "name": "No",
            "count": 1
           }
          ]
         }
        },
        {
         "name": "OnlineSecurity",
         "dtype": "object",
         "stats": {
          "unique_count": 3,
          "nan_count": 0,
          "categories": [
           {
            "name": "No",
            "count": 3
           },
           {
            "name": "No internet service",
            "count": 1
           },
           {
            "name": "Yes",
            "count": 1
           }
          ]
         }
        },
        {
         "name": "OnlineBackup",
         "dtype": "object",
         "stats": {
          "unique_count": 3,
          "nan_count": 0,
          "categories": [
           {
            "name": "No",
            "count": 3
           },
           {
            "name": "No internet service",
            "count": 1
           },
           {
            "name": "Yes",
            "count": 1
           }
          ]
         }
        },
        {
         "name": "DeviceProtection",
         "dtype": "object",
         "stats": {
          "unique_count": 3,
          "nan_count": 0,
          "categories": [
           {
            "name": "Yes",
            "count": 2
           },
           {
            "name": "No",
            "count": 2
           },
           {
            "name": "No internet service",
            "count": 1
           }
          ]
         }
        },
        {
         "name": "TechSupport",
         "dtype": "object",
         "stats": {
          "unique_count": 2,
          "nan_count": 0,
          "categories": [
           {
            "name": "No",
            "count": 4
           },
           {
            "name": "No internet service",
            "count": 1
           }
          ]
         }
        },
        {
         "name": "StreamingTV",
         "dtype": "object",
         "stats": {
          "unique_count": 3,
          "nan_count": 0,
          "categories": [
           {
            "name": "No",
            "count": 3
           },
           {
            "name": "No internet service",
            "count": 1
           },
           {
            "name": "Yes",
            "count": 1
           }
          ]
         }
        },
        {
         "name": "StreamingMovies",
         "dtype": "object",
         "stats": {
          "unique_count": 3,
          "nan_count": 0,
          "categories": [
           {
            "name": "No",
            "count": 3
           },
           {
            "name": "No internet service",
            "count": 1
           },
           {
            "name": "Yes",
            "count": 1
           }
          ]
         }
        },
        {
         "name": "Contract",
         "dtype": "object",
         "stats": {
          "unique_count": 2,
          "nan_count": 0,
          "categories": [
           {
            "name": "Month-to-month",
            "count": 4
           },
           {
            "name": "Two year",
            "count": 1
           }
          ]
         }
        },
        {
         "name": "PaperlessBilling",
         "dtype": "object",
         "stats": {
          "unique_count": 2,
          "nan_count": 0,
          "categories": [
           {
            "name": "Yes",
            "count": 3
           },
           {
            "name": "No",
            "count": 2
           }
          ]
         }
        },
        {
         "name": "PaymentMethod",
         "dtype": "object",
         "stats": {
          "unique_count": 3,
          "nan_count": 0,
          "categories": [
           {
            "name": "Credit card (automatic)",
            "count": 2
           },
           {
            "name": "Electronic check",
            "count": 2
           },
           {
            "name": "Bank transfer (automatic)",
            "count": 1
           }
          ]
         }
        },
        {
         "name": "MonthlyCharges",
         "dtype": "float64",
         "stats": {
          "unique_count": 5,
          "nan_count": 0,
          "min": "24.1",
          "max": "88.15",
          "histogram": [
           {
            "bin_start": 24.1,
            "bin_end": 30.505000000000003,
            "count": 1
           },
           {
            "bin_start": 30.505000000000003,
            "bin_end": 36.910000000000004,
            "count": 0
           },
           {
            "bin_start": 36.910000000000004,
            "bin_end": 43.315000000000005,
            "count": 0
           },
           {
            "bin_start": 43.315000000000005,
            "bin_end": 49.720000000000006,
            "count": 0
           },
           {
            "bin_start": 49.720000000000006,
            "bin_end": 56.12500000000001,
            "count": 2
           },
           {
            "bin_start": 56.12500000000001,
            "bin_end": 62.53000000000001,
            "count": 0
           },
           {
            "bin_start": 62.53000000000001,
            "bin_end": 68.935,
            "count": 0
           },
           {
            "bin_start": 68.935,
            "bin_end": 75.34,
            "count": 1
           },
           {
            "bin_start": 75.34,
            "bin_end": 81.745,
            "count": 0
           },
           {
            "bin_start": 81.745,
            "bin_end": 88.15,
            "count": 1
           }
          ]
         }
        },
        {
         "name": "TotalCharges",
         "dtype": "object",
         "stats": {
          "unique_count": 5,
          "nan_count": 0,
          "categories": [
           {
            "name": "1734.65",
            "count": 1
           },
           {
            "name": "3973.2",
            "count": 1
           },
           {
            "name": "3 others",
            "count": 3
           }
          ]
         }
        },
        {
         "name": "Churn",
         "dtype": "object",
         "stats": {
          "unique_count": 2,
          "nan_count": 0,
          "categories": [
           {
            "name": "No",
            "count": 4
           },
           {
            "name": "Yes",
            "count": 1
           }
          ]
         }
        },
        {
         "name": "_deepnote_index_column",
         "dtype": "int64"
        }
       ],
       "rows_top": [
        {
         "Unnamed: 0": 1869,
         "customerID": "7010-BRBUU",
         "gender": "Male",
         "SeniorCitizen": 0,
         "Partner": "Yes",
         "Dependents": "Yes",
         "tenure": 72,
         "PhoneService": "Yes",
         "MultipleLines": "Yes",
         "InternetService": "No",
         "OnlineSecurity": "No internet service",
         "OnlineBackup": "No internet service",
         "DeviceProtection": "No internet service",
         "TechSupport": "No internet service",
         "StreamingTV": "No internet service",
         "StreamingMovies": "No internet service",
         "Contract": "Two year",
         "PaperlessBilling": "No",
         "PaymentMethod": "Credit card (automatic)",
         "MonthlyCharges": 24.1,
         "TotalCharges": "1734.65",
         "Churn": "No",
         "_deepnote_index_column": 0
        },
        {
         "Unnamed: 0": 4528,
         "customerID": "9688-YGXVR",
         "gender": "Female",
         "SeniorCitizen": 0,
         "Partner": "No",
         "Dependents": "No",
         "tenure": 44,
         "PhoneService": "Yes",
         "MultipleLines": "No",
         "InternetService": "Fiber optic",
         "OnlineSecurity": "No",
         "OnlineBackup": "Yes",
         "DeviceProtection": "Yes",
         "TechSupport": "No",
         "StreamingTV": "Yes",
         "StreamingMovies": "No",
         "Contract": "Month-to-month",
         "PaperlessBilling": "Yes",
         "PaymentMethod": "Credit card (automatic)",
         "MonthlyCharges": 88.15,
         "TotalCharges": "3973.2",
         "Churn": "No",
         "_deepnote_index_column": 1
        },
        {
         "Unnamed: 0": 6344,
         "customerID": "9286-DOJGF",
         "gender": "Female",
         "SeniorCitizen": 1,
         "Partner": "Yes",
         "Dependents": "No",
         "tenure": 38,
         "PhoneService": "Yes",
         "MultipleLines": "Yes",
         "InternetService": "Fiber optic",
         "OnlineSecurity": "No",
         "OnlineBackup": "No",
         "DeviceProtection": "No",
         "TechSupport": "No",
         "StreamingTV": "No",
         "StreamingMovies": "No",
         "Contract": "Month-to-month",
         "PaperlessBilling": "Yes",
         "PaymentMethod": "Bank transfer (automatic)",
         "MonthlyCharges": 74.95,
         "TotalCharges": "2869.85",
         "Churn": "Yes",
         "_deepnote_index_column": 2
        },
        {
         "Unnamed: 0": 6739,
         "customerID": "6994-KERXL",
         "gender": "Male",
         "SeniorCitizen": 0,
         "Partner": "No",
         "Dependents": "No",
         "tenure": 4,
         "PhoneService": "Yes",
         "MultipleLines": "No",
         "InternetService": "DSL",
         "OnlineSecurity": "No",
         "OnlineBackup": "No",
         "DeviceProtection": "No",
         "TechSupport": "No",
         "StreamingTV": "No",
         "StreamingMovies": "Yes",
         "Contract": "Month-to-month",
         "PaperlessBilling": "Yes",
         "PaymentMethod": "Electronic check",
         "MonthlyCharges": 55.9,
         "TotalCharges": "238.5",
         "Churn": "No",
         "_deepnote_index_column": 3
        },
        {
         "Unnamed: 0": 432,
         "customerID": "2181-UAESM",
         "gender": "Male",
         "SeniorCitizen": 0,
         "Partner": "No",
         "Dependents": "No",
         "tenure": 2,
         "PhoneService": "Yes",
         "MultipleLines": "No",
         "InternetService": "DSL",
         "OnlineSecurity": "Yes",
         "OnlineBackup": "No",
         "DeviceProtection": "Yes",
         "TechSupport": "No",
         "StreamingTV": "No",
         "StreamingMovies": "No",
         "Contract": "Month-to-month",
         "PaperlessBilling": "No",
         "PaymentMethod": "Electronic check",
         "MonthlyCharges": 53.45,
         "TotalCharges": "119.5",
         "Churn": "No",
         "_deepnote_index_column": 4
        }
       ],
       "rows_bottom": null
      },
      "text/plain": "   Unnamed: 0  customerID  gender  SeniorCitizen Partner Dependents  tenure  \\\n0        1869  7010-BRBUU    Male              0     Yes        Yes      72   \n1        4528  9688-YGXVR  Female              0      No         No      44   \n2        6344  9286-DOJGF  Female              1     Yes         No      38   \n3        6739  6994-KERXL    Male              0      No         No       4   \n4         432  2181-UAESM    Male              0      No         No       2   \n\n  PhoneService MultipleLines InternetService  ...     DeviceProtection  \\\n0          Yes           Yes              No  ...  No internet service   \n1          Yes            No     Fiber optic  ...                  Yes   \n2          Yes           Yes     Fiber optic  ...                   No   \n3          Yes            No             DSL  ...                   No   \n4          Yes            No             DSL  ...                  Yes   \n\n           TechSupport          StreamingTV      StreamingMovies  \\\n0  No internet service  No internet service  No internet service   \n1                   No                  Yes                   No   \n2                   No                   No                   No   \n3                   No                   No                  Yes   \n4                   No                   No                   No   \n\n         Contract PaperlessBilling              PaymentMethod MonthlyCharges  \\\n0        Two year               No    Credit card (automatic)          24.10   \n1  Month-to-month              Yes    Credit card (automatic)          88.15   \n2  Month-to-month              Yes  Bank transfer (automatic)          74.95   \n3  Month-to-month              Yes           Electronic check          55.90   \n4  Month-to-month               No           Electronic check          53.45   \n\n  TotalCharges  Churn  \n0      1734.65     No  \n1       3973.2     No  \n2      2869.85    Yes  \n3        238.5     No  \n4        119.5     No  \n\n[5 rows x 22 columns]",
      "text/html": "<div>\n<style scoped>\n    .dataframe tbody tr th:only-of-type {\n        vertical-align: middle;\n    }\n\n    .dataframe tbody tr th {\n        vertical-align: top;\n    }\n\n    .dataframe thead th {\n        text-align: right;\n    }\n</style>\n<table border=\"1\" class=\"dataframe\">\n  <thead>\n    <tr style=\"text-align: right;\">\n      <th></th>\n      <th>Unnamed: 0</th>\n      <th>customerID</th>\n      <th>gender</th>\n      <th>SeniorCitizen</th>\n      <th>Partner</th>\n      <th>Dependents</th>\n      <th>tenure</th>\n      <th>PhoneService</th>\n      <th>MultipleLines</th>\n      <th>InternetService</th>\n      <th>...</th>\n      <th>DeviceProtection</th>\n      <th>TechSupport</th>\n      <th>StreamingTV</th>\n      <th>StreamingMovies</th>\n      <th>Contract</th>\n      <th>PaperlessBilling</th>\n      <th>PaymentMethod</th>\n      <th>MonthlyCharges</th>\n      <th>TotalCharges</th>\n      <th>Churn</th>\n    </tr>\n  </thead>\n  <tbody>\n    <tr>\n      <th>0</th>\n      <td>1869</td>\n      <td>7010-BRBUU</td>\n      <td>Male</td>\n      <td>0</td>\n      <td>Yes</td>\n      <td>Yes</td>\n      <td>72</td>\n      <td>Yes</td>\n      <td>Yes</td>\n      <td>No</td>\n      <td>...</td>\n      <td>No internet service</td>\n      <td>No internet service</td>\n      <td>No internet service</td>\n      <td>No internet service</td>\n      <td>Two year</td>\n      <td>No</td>\n      <td>Credit card (automatic)</td>\n      <td>24.10</td>\n      <td>1734.65</td>\n      <td>No</td>\n    </tr>\n    <tr>\n      <th>1</th>\n      <td>4528</td>\n      <td>9688-YGXVR</td>\n      <td>Female</td>\n      <td>0</td>\n      <td>No</td>\n      <td>No</td>\n      <td>44</td>\n      <td>Yes</td>\n      <td>No</td>\n      <td>Fiber optic</td>\n      <td>...</td>\n      <td>Yes</td>\n      <td>No</td>\n      <td>Yes</td>\n      <td>No</td>\n      <td>Month-to-month</td>\n      <td>Yes</td>\n      <td>Credit card (automatic)</td>\n      <td>88.15</td>\n      <td>3973.2</td>\n      <td>No</td>\n    </tr>\n    <tr>\n      <th>2</th>\n      <td>6344</td>\n      <td>9286-DOJGF</td>\n      <td>Female</td>\n      <td>1</td>\n      <td>Yes</td>\n      <td>No</td>\n      <td>38</td>\n      <td>Yes</td>\n      <td>Yes</td>\n      <td>Fiber optic</td>\n      <td>...</td>\n      <td>No</td>\n      <td>No</td>\n      <td>No</td>\n      <td>No</td>\n      <td>Month-to-month</td>\n      <td>Yes</td>\n      <td>Bank transfer (automatic)</td>\n      <td>74.95</td>\n      <td>2869.85</td>\n      <td>Yes</td>\n    </tr>\n    <tr>\n      <th>3</th>\n      <td>6739</td>\n      <td>6994-KERXL</td>\n      <td>Male</td>\n      <td>0</td>\n      <td>No</td>\n      <td>No</td>\n      <td>4</td>\n      <td>Yes</td>\n      <td>No</td>\n      <td>DSL</td>\n      <td>...</td>\n      <td>No</td>\n      <td>No</td>\n      <td>No</td>\n      <td>Yes</td>\n      <td>Month-to-month</td>\n      <td>Yes</td>\n      <td>Electronic check</td>\n      <td>55.90</td>\n      <td>238.5</td>\n      <td>No</td>\n    </tr>\n    <tr>\n      <th>4</th>\n      <td>432</td>\n      <td>2181-UAESM</td>\n      <td>Male</td>\n      <td>0</td>\n      <td>No</td>\n      <td>No</td>\n      <td>2</td>\n      <td>Yes</td>\n      <td>No</td>\n      <td>DSL</td>\n      <td>...</td>\n      <td>Yes</td>\n      <td>No</td>\n      <td>No</td>\n      <td>No</td>\n      <td>Month-to-month</td>\n      <td>No</td>\n      <td>Electronic check</td>\n      <td>53.45</td>\n      <td>119.5</td>\n      <td>No</td>\n    </tr>\n  </tbody>\n</table>\n<p>5 rows × 22 columns</p>\n</div>"
     },
     "metadata": {}
    }
   ]
  },
  {
   "cell_type": "markdown",
   "source": "- ``customerID``- customer id;\n- ``gender`` - client gender (male / female)\n- ``SeniorCitizen`` - is the client retired (1, 0)\n- ``Partner`` - is the client married (Yes, No)\n- ``Dependents`` - has dependents (Yes, No)\n- ``tenure`` - how many months a person has been a client of the company\n- ``PhoneService`` - is the telephone service connected (Yes, No)\n- ``MultipleLines`` - are multiple phone lines connected (Yes, No, No phone service)\n- ``InternetService`` - client's Internet service provider (DSL, Fiber optic, No)\n- ``OnlineSecurity`` - is the online security service connected (Yes, No, No internet service)\n- ``OnlineBackup`` - is the online backup service activated (Yes, No, No internet service)\n- ``DeviceProtection`` - does the client have equipment insurance (Yes, No, No internet service)\n- ``TechSupport`` - is the technical support service connected (Yes, No, No internet service)\n- ``StreamingTV`` - is the streaming TV service connected (Yes, No, No internet service)\n- ``StreamingMovies`` - is the streaming cinema service activated (Yes, No, No internet service)\n- ``Contract`` - type of customer contract (Month-to-month, One year, Two year)\n- ``PaperlessBilling`` - whether the client uses paperless billing (Yes, No)\n- ``PaymentMethod`` - payment method (Electronic check, Mailed check, Bank transfer (automatic), Credit card (automatic))\n- ``MonthlyCharges`` - current monthly payment\n- ``TotalCharges`` - the total amount that the client paid for the services for the entire time\n- ``Churn`` - whether there was a churn (Yes or No)",
   "metadata": {
    "cell_id": "00004-ffec483b-4753-4e9b-961b-e5dba1289e2d",
    "deepnote_cell_type": "markdown"
   }
  },
  {
   "cell_type": "code",
   "metadata": {
    "cell_id": "00005-29e2151d-54d9-4a05-ab33-6229c4eebbcc",
    "deepnote_to_be_reexecuted": false,
    "source_hash": "de1e323c",
    "execution_start": 1621866917479,
    "execution_millis": 29,
    "deepnote_cell_type": "code"
   },
   "source": "df.info()",
   "execution_count": 3,
   "outputs": [
    {
     "name": "stdout",
     "text": "<class 'pandas.core.frame.DataFrame'>\nRangeIndex: 5986 entries, 0 to 5985\nData columns (total 22 columns):\n #   Column            Non-Null Count  Dtype  \n---  ------            --------------  -----  \n 0   Unnamed: 0        5986 non-null   int64  \n 1   customerID        5986 non-null   object \n 2   gender            5986 non-null   object \n 3   SeniorCitizen     5986 non-null   int64  \n 4   Partner           5986 non-null   object \n 5   Dependents        5986 non-null   object \n 6   tenure            5986 non-null   int64  \n 7   PhoneService      5986 non-null   object \n 8   MultipleLines     5986 non-null   object \n 9   InternetService   5986 non-null   object \n 10  OnlineSecurity    5986 non-null   object \n 11  OnlineBackup      5986 non-null   object \n 12  DeviceProtection  5986 non-null   object \n 13  TechSupport       5986 non-null   object \n 14  StreamingTV       5986 non-null   object \n 15  StreamingMovies   5986 non-null   object \n 16  Contract          5986 non-null   object \n 17  PaperlessBilling  5986 non-null   object \n 18  PaymentMethod     5986 non-null   object \n 19  MonthlyCharges    5986 non-null   float64\n 20  TotalCharges      5986 non-null   object \n 21  Churn             5986 non-null   object \ndtypes: float64(1), int64(3), object(18)\nmemory usage: 1.0+ MB\n",
     "output_type": "stream"
    }
   ]
  },
  {
   "cell_type": "markdown",
   "source": "## Data cleaning",
   "metadata": {
    "cell_id": "00006-a86b928d-995c-4a43-85b7-ab245c43d5a0",
    "deepnote_cell_type": "markdown"
   }
  },
  {
   "cell_type": "markdown",
   "source": "TotalCharges: In this column there were 10 missing values. Analyzing this records we have noticed that in all of them 'tenure' was zero, so new customers that haven't done still the first payment. So we decided to fill TotalCharges with 0.",
   "metadata": {
    "cell_id": "00007-281be6b1-a005-4173-92e1-34fae2aea112",
    "deepnote_cell_type": "markdown"
   }
  },
  {
   "cell_type": "code",
   "metadata": {
    "cell_id": "00008-62b610f1-c118-40e3-b2c2-0efa120631d9",
    "deepnote_to_be_reexecuted": false,
    "source_hash": "3cd23012",
    "execution_start": 1621866917498,
    "execution_millis": 7,
    "deepnote_cell_type": "code"
   },
   "source": "df['TotalCharges'] = np.where(df['tenure'] == 0, 0, df['TotalCharges'])",
   "execution_count": 4,
   "outputs": []
  },
  {
   "cell_type": "code",
   "metadata": {
    "cell_id": "00009-47cec4df-bbab-4fce-9df2-5a7ac112b09b",
    "deepnote_to_be_reexecuted": false,
    "source_hash": "f3dd26da",
    "execution_start": 1621866917513,
    "execution_millis": 18,
    "deepnote_cell_type": "code"
   },
   "source": "df.isnull().sum()",
   "execution_count": 5,
   "outputs": [
    {
     "output_type": "execute_result",
     "execution_count": 5,
     "data": {
      "text/plain": "Unnamed: 0          0\ncustomerID          0\ngender              0\nSeniorCitizen       0\nPartner             0\nDependents          0\ntenure              0\nPhoneService        0\nMultipleLines       0\nInternetService     0\nOnlineSecurity      0\nOnlineBackup        0\nDeviceProtection    0\nTechSupport         0\nStreamingTV         0\nStreamingMovies     0\nContract            0\nPaperlessBilling    0\nPaymentMethod       0\nMonthlyCharges      0\nTotalCharges        0\nChurn               0\ndtype: int64"
     },
     "metadata": {}
    }
   ]
  },
  {
   "cell_type": "code",
   "metadata": {
    "cell_id": "00010-1d7b0c31-5e25-44d3-b5b6-b4c8ae1493c4",
    "deepnote_to_be_reexecuted": false,
    "source_hash": "bf0884ce",
    "execution_start": 1621866917526,
    "execution_millis": 1,
    "deepnote_cell_type": "code"
   },
   "source": "df['TotalCharges'] = df['TotalCharges'].astype(float)",
   "execution_count": 6,
   "outputs": []
  },
  {
   "cell_type": "code",
   "metadata": {
    "cell_id": "00011-9a598628-0564-4cba-9b51-4297fa91d0ee",
    "deepnote_to_be_reexecuted": false,
    "source_hash": "de1e323c",
    "execution_start": 1621866917535,
    "execution_millis": 14,
    "deepnote_cell_type": "code"
   },
   "source": "df.info()",
   "execution_count": 7,
   "outputs": [
    {
     "name": "stdout",
     "text": "<class 'pandas.core.frame.DataFrame'>\nRangeIndex: 5986 entries, 0 to 5985\nData columns (total 22 columns):\n #   Column            Non-Null Count  Dtype  \n---  ------            --------------  -----  \n 0   Unnamed: 0        5986 non-null   int64  \n 1   customerID        5986 non-null   object \n 2   gender            5986 non-null   object \n 3   SeniorCitizen     5986 non-null   int64  \n 4   Partner           5986 non-null   object \n 5   Dependents        5986 non-null   object \n 6   tenure            5986 non-null   int64  \n 7   PhoneService      5986 non-null   object \n 8   MultipleLines     5986 non-null   object \n 9   InternetService   5986 non-null   object \n 10  OnlineSecurity    5986 non-null   object \n 11  OnlineBackup      5986 non-null   object \n 12  DeviceProtection  5986 non-null   object \n 13  TechSupport       5986 non-null   object \n 14  StreamingTV       5986 non-null   object \n 15  StreamingMovies   5986 non-null   object \n 16  Contract          5986 non-null   object \n 17  PaperlessBilling  5986 non-null   object \n 18  PaymentMethod     5986 non-null   object \n 19  MonthlyCharges    5986 non-null   float64\n 20  TotalCharges      5986 non-null   float64\n 21  Churn             5986 non-null   object \ndtypes: float64(2), int64(3), object(17)\nmemory usage: 1.0+ MB\n",
     "output_type": "stream"
    }
   ]
  },
  {
   "cell_type": "markdown",
   "source": "Removed useless column",
   "metadata": {
    "cell_id": "00013-b493bc57-916e-4c77-9e02-8c69a3ce623e",
    "deepnote_cell_type": "markdown"
   }
  },
  {
   "cell_type": "code",
   "metadata": {
    "cell_id": "00014-47c3d67e-4fb2-4ddd-8694-4f050a46cd5b",
    "deepnote_to_be_reexecuted": false,
    "source_hash": "1dd7b333",
    "execution_start": 1621866917552,
    "execution_millis": 3,
    "deepnote_cell_type": "code"
   },
   "source": "df.drop('Unnamed: 0', axis=1, inplace=True)",
   "execution_count": 8,
   "outputs": []
  },
  {
   "cell_type": "code",
   "metadata": {
    "cell_id": "00015-d03f5ec0-587c-4d0f-81dd-617b6f95b77e",
    "deepnote_to_be_reexecuted": false,
    "source_hash": "64f68b29",
    "execution_start": 1621866917559,
    "execution_millis": 5,
    "deepnote_cell_type": "code"
   },
   "source": "churn_encoder = LabelEncoder()\ndf['Churn'] = churn_encoder.fit_transform(df['Churn'])",
   "execution_count": 9,
   "outputs": []
  },
  {
   "cell_type": "markdown",
   "source": "### Feature Engineering",
   "metadata": {
    "cell_id": "00016-10dc83c1-8c66-409a-90ef-53b39e72568d",
    "deepnote_cell_type": "markdown"
   }
  },
  {
   "cell_type": "code",
   "metadata": {
    "cell_id": "00017-16470989-8016-4ed3-9bdd-64ba5062dc3e",
    "deepnote_to_be_reexecuted": false,
    "source_hash": "5684adf3",
    "execution_start": 1621866917610,
    "execution_millis": 0,
    "deepnote_cell_type": "code"
   },
   "source": "df['AvgMonthlyCharges'] = np.where(df['tenure'] == 0, df['TotalCharges'], df['TotalCharges']/df['tenure'])",
   "execution_count": 10,
   "outputs": []
  },
  {
   "cell_type": "code",
   "metadata": {
    "cell_id": "00018-9568b1ea-b933-4918-a599-4612024c86af",
    "deepnote_to_be_reexecuted": false,
    "source_hash": "269f0b5d",
    "execution_start": 1621866917611,
    "execution_millis": 0,
    "deepnote_cell_type": "code"
   },
   "source": "cols = list(df.columns)\na, b = cols.index('Churn'), cols.index('AvgMonthlyCharges')\ncols[b], cols[a] = cols[a], cols[b]\ndf = df[cols]",
   "execution_count": 11,
   "outputs": []
  },
  {
   "cell_type": "code",
   "metadata": {
    "cell_id": "00019-e8dacb21-0250-400e-9c3a-f1a4ea51fb36",
    "deepnote_to_be_reexecuted": false,
    "source_hash": "56f78ac4",
    "execution_start": 1621866917612,
    "execution_millis": 150,
    "deepnote_cell_type": "code"
   },
   "source": "df['AvgMonthlyCharges'] = df['AvgMonthlyCharges'].round(decimals=2)\ndf",
   "execution_count": 12,
   "outputs": [
    {
     "output_type": "execute_result",
     "execution_count": 12,
     "data": {
      "application/vnd.deepnote.dataframe.v2+json": {
       "row_count": 5986,
       "column_count": 22,
       "columns": [
        {
         "name": "customerID",
         "dtype": "object",
         "stats": {
          "unique_count": 5986,
          "nan_count": 0,
          "categories": [
           {
            "name": "7010-BRBUU",
            "count": 1
           },
           {
            "name": "9688-YGXVR",
            "count": 1
           },
           {
            "name": "5984 others",
            "count": 5984
           }
          ]
         }
        },
        {
         "name": "gender",
         "dtype": "object",
         "stats": {
          "unique_count": 2,
          "nan_count": 0,
          "categories": [
           {
            "name": "Male",
            "count": 3050
           },
           {
            "name": "Female",
            "count": 2936
           }
          ]
         }
        },
        {
         "name": "SeniorCitizen",
         "dtype": "int64",
         "stats": {
          "unique_count": 2,
          "nan_count": 0,
          "min": "0",
          "max": "1",
          "histogram": [
           {
            "bin_start": 0,
            "bin_end": 0.1,
            "count": 5020
           },
           {
            "bin_start": 0.1,
            "bin_end": 0.2,
            "count": 0
           },
           {
            "bin_start": 0.2,
            "bin_end": 0.30000000000000004,
            "count": 0
           },
           {
            "bin_start": 0.30000000000000004,
            "bin_end": 0.4,
            "count": 0
           },
           {
            "bin_start": 0.4,
            "bin_end": 0.5,
            "count": 0
           },
           {
            "bin_start": 0.5,
            "bin_end": 0.6000000000000001,
            "count": 0
           },
           {
            "bin_start": 0.6000000000000001,
            "bin_end": 0.7000000000000001,
            "count": 0
           },
           {
            "bin_start": 0.7000000000000001,
            "bin_end": 0.8,
            "count": 0
           },
           {
            "bin_start": 0.8,
            "bin_end": 0.9,
            "count": 0
           },
           {
            "bin_start": 0.9,
            "bin_end": 1,
            "count": 966
           }
          ]
         }
        },
        {
         "name": "Partner",
         "dtype": "object",
         "stats": {
          "unique_count": 2,
          "nan_count": 0,
          "categories": [
           {
            "name": "No",
            "count": 3082
           },
           {
            "name": "Yes",
            "count": 2904
           }
          ]
         }
        },
        {
         "name": "Dependents",
         "dtype": "object",
         "stats": {
          "unique_count": 2,
          "nan_count": 0,
          "categories": [
           {
            "name": "No",
            "count": 4195
           },
           {
            "name": "Yes",
            "count": 1791
           }
          ]
         }
        },
        {
         "name": "tenure",
         "dtype": "int64",
         "stats": {
          "unique_count": 73,
          "nan_count": 0,
          "min": "0",
          "max": "72",
          "histogram": [
           {
            "bin_start": 0,
            "bin_end": 7.2,
            "count": 1357
           },
           {
            "bin_start": 7.2,
            "bin_end": 14.4,
            "count": 640
           },
           {
            "bin_start": 14.4,
            "bin_end": 21.6,
            "count": 490
           },
           {
            "bin_start": 21.6,
            "bin_end": 28.8,
            "count": 471
           },
           {
            "bin_start": 28.8,
            "bin_end": 36,
            "count": 428
           },
           {
            "bin_start": 36,
            "bin_end": 43.2,
            "count": 424
           },
           {
            "bin_start": 43.2,
            "bin_end": 50.4,
            "count": 384
           },
           {
            "bin_start": 50.4,
            "bin_end": 57.6,
            "count": 419
           },
           {
            "bin_start": 57.6,
            "bin_end": 64.8,
            "count": 437
           },
           {
            "bin_start": 64.8,
            "bin_end": 72,
            "count": 936
           }
          ]
         }
        },
        {
         "name": "PhoneService",
         "dtype": "object",
         "stats": {
          "unique_count": 2,
          "nan_count": 0,
          "categories": [
           {
            "name": "Yes",
            "count": 5396
           },
           {
            "name": "No",
            "count": 590
           }
          ]
         }
        },
        {
         "name": "MultipleLines",
         "dtype": "object",
         "stats": {
          "unique_count": 3,
          "nan_count": 0,
          "categories": [
           {
            "name": "No",
            "count": 2848
           },
           {
            "name": "Yes",
            "count": 2548
           },
           {
            "name": "No phone service",
            "count": 590
           }
          ]
         }
        },
        {
         "name": "InternetService",
         "dtype": "object",
         "stats": {
          "unique_count": 3,
          "nan_count": 0,
          "categories": [
           {
            "name": "Fiber optic",
            "count": 2627
           },
           {
            "name": "DSL",
            "count": 2068
           },
           {
            "name": "No",
            "count": 1291
           }
          ]
         }
        },
        {
         "name": "OnlineSecurity",
         "dtype": "object",
         "stats": {
          "unique_count": 3,
          "nan_count": 0,
          "categories": [
           {
            "name": "No",
            "count": 2982
           },
           {
            "name": "Yes",
            "count": 1713
           },
           {
            "name": "No internet service",
            "count": 1291
           }
          ]
         }
        },
        {
         "name": "OnlineBackup",
         "dtype": "object",
         "stats": {
          "unique_count": 3,
          "nan_count": 0,
          "categories": [
           {
            "name": "No",
            "count": 2605
           },
           {
            "name": "Yes",
            "count": 2090
           },
           {
            "name": "No internet service",
            "count": 1291
           }
          ]
         }
        },
        {
         "name": "DeviceProtection",
         "dtype": "object",
         "stats": {
          "unique_count": 3,
          "nan_count": 0,
          "categories": [
           {
            "name": "No",
            "count": 2640
           },
           {
            "name": "Yes",
            "count": 2055
           },
           {
            "name": "No internet service",
            "count": 1291
           }
          ]
         }
        },
        {
         "name": "TechSupport",
         "dtype": "object",
         "stats": {
          "unique_count": 3,
          "nan_count": 0,
          "categories": [
           {
            "name": "No",
            "count": 2960
           },
           {
            "name": "Yes",
            "count": 1735
           },
           {
            "name": "No internet service",
            "count": 1291
           }
          ]
         }
        },
        {
         "name": "StreamingTV",
         "dtype": "object",
         "stats": {
          "unique_count": 3,
          "nan_count": 0,
          "categories": [
           {
            "name": "No",
            "count": 2389
           },
           {
            "name": "Yes",
            "count": 2306
           },
           {
            "name": "No internet service",
            "count": 1291
           }
          ]
         }
        },
        {
         "name": "StreamingMovies",
         "dtype": "object",
         "stats": {
          "unique_count": 3,
          "nan_count": 0,
          "categories": [
           {
            "name": "No",
            "count": 2356
           },
           {
            "name": "Yes",
            "count": 2339
           },
           {
            "name": "No internet service",
            "count": 1291
           }
          ]
         }
        },
        {
         "name": "Contract",
         "dtype": "object",
         "stats": {
          "unique_count": 3,
          "nan_count": 0,
          "categories": [
           {
            "name": "Month-to-month",
            "count": 3269
           },
           {
            "name": "Two year",
            "count": 1441
           },
           {
            "name": "One year",
            "count": 1276
           }
          ]
         }
        },
        {
         "name": "PaperlessBilling",
         "dtype": "object"
        },
        {
         "name": "PaymentMethod",
         "dtype": "object"
        },
        {
         "name": "MonthlyCharges",
         "dtype": "float64"
        },
        {
         "name": "TotalCharges",
         "dtype": "float64"
        },
        {
         "name": "AvgMonthlyCharges",
         "dtype": "float64"
        },
        {
         "name": "Churn",
         "dtype": "int64"
        },
        {
         "name": "_deepnote_index_column",
         "dtype": "int64"
        }
       ],
       "rows_top": [
        {
         "customerID": "7010-BRBUU",
         "gender": "Male",
         "SeniorCitizen": 0,
         "Partner": "Yes",
         "Dependents": "Yes",
         "tenure": 72,
         "PhoneService": "Yes",
         "MultipleLines": "Yes",
         "InternetService": "No",
         "OnlineSecurity": "No internet service",
         "OnlineBackup": "No internet service",
         "DeviceProtection": "No internet service",
         "TechSupport": "No internet service",
         "StreamingTV": "No internet service",
         "StreamingMovies": "No internet service",
         "Contract": "Two year",
         "PaperlessBilling": "No",
         "PaymentMethod": "Credit card (automatic)",
         "MonthlyCharges": 24.1,
         "TotalCharges": 1734.65,
         "AvgMonthlyCharges": 24.09,
         "Churn": 0,
         "_deepnote_index_column": 0
        },
        {
         "customerID": "9688-YGXVR",
         "gender": "Female",
         "SeniorCitizen": 0,
         "Partner": "No",
         "Dependents": "No",
         "tenure": 44,
         "PhoneService": "Yes",
         "MultipleLines": "No",
         "InternetService": "Fiber optic",
         "OnlineSecurity": "No",
         "OnlineBackup": "Yes",
         "DeviceProtection": "Yes",
         "TechSupport": "No",
         "StreamingTV": "Yes",
         "StreamingMovies": "No",
         "Contract": "Month-to-month",
         "PaperlessBilling": "Yes",
         "PaymentMethod": "Credit card (automatic)",
         "MonthlyCharges": 88.15,
         "TotalCharges": 3973.2,
         "AvgMonthlyCharges": 90.3,
         "Churn": 0,
         "_deepnote_index_column": 1
        },
        {
         "customerID": "9286-DOJGF",
         "gender": "Female",
         "SeniorCitizen": 1,
         "Partner": "Yes",
         "Dependents": "No",
         "tenure": 38,
         "PhoneService": "Yes",
         "MultipleLines": "Yes",
         "InternetService": "Fiber optic",
         "OnlineSecurity": "No",
         "OnlineBackup": "No",
         "DeviceProtection": "No",
         "TechSupport": "No",
         "StreamingTV": "No",
         "StreamingMovies": "No",
         "Contract": "Month-to-month",
         "PaperlessBilling": "Yes",
         "PaymentMethod": "Bank transfer (automatic)",
         "MonthlyCharges": 74.95,
         "TotalCharges": 2869.85,
         "AvgMonthlyCharges": 75.52,
         "Churn": 1,
         "_deepnote_index_column": 2
        },
        {
         "customerID": "6994-KERXL",
         "gender": "Male",
         "SeniorCitizen": 0,
         "Partner": "No",
         "Dependents": "No",
         "tenure": 4,
         "PhoneService": "Yes",
         "MultipleLines": "No",
         "InternetService": "DSL",
         "OnlineSecurity": "No",
         "OnlineBackup": "No",
         "DeviceProtection": "No",
         "TechSupport": "No",
         "StreamingTV": "No",
         "StreamingMovies": "Yes",
         "Contract": "Month-to-month",
         "PaperlessBilling": "Yes",
         "PaymentMethod": "Electronic check",
         "MonthlyCharges": 55.9,
         "TotalCharges": 238.5,
         "AvgMonthlyCharges": 59.62,
         "Churn": 0,
         "_deepnote_index_column": 3
        },
        {
         "customerID": "2181-UAESM",
         "gender": "Male",
         "SeniorCitizen": 0,
         "Partner": "No",
         "Dependents": "No",
         "tenure": 2,
         "PhoneService": "Yes",
         "MultipleLines": "No",
         "InternetService": "DSL",
         "OnlineSecurity": "Yes",
         "OnlineBackup": "No",
         "DeviceProtection": "Yes",
         "TechSupport": "No",
         "StreamingTV": "No",
         "StreamingMovies": "No",
         "Contract": "Month-to-month",
         "PaperlessBilling": "No",
         "PaymentMethod": "Electronic check",
         "MonthlyCharges": 53.45,
         "TotalCharges": 119.5,
         "AvgMonthlyCharges": 59.75,
         "Churn": 0,
         "_deepnote_index_column": 4
        },
        {
         "customerID": "4312-GVYNH",
         "gender": "Female",
         "SeniorCitizen": 0,
         "Partner": "Yes",
         "Dependents": "No",
         "tenure": 70,
         "PhoneService": "No",
         "MultipleLines": "No phone service",
         "InternetService": "DSL",
         "OnlineSecurity": "Yes",
         "OnlineBackup": "No",
         "DeviceProtection": "Yes",
         "TechSupport": "Yes",
         "StreamingTV": "No",
         "StreamingMovies": "Yes",
         "Contract": "Two year",
         "PaperlessBilling": "Yes",
         "PaymentMethod": "Bank transfer (automatic)",
         "MonthlyCharges": 49.85,
         "TotalCharges": 3370.2,
         "AvgMonthlyCharges": 48.15,
         "Churn": 0,
         "_deepnote_index_column": 5
        },
        {
         "customerID": "2495-KZNFB",
         "gender": "Female",
         "SeniorCitizen": 0,
         "Partner": "No",
         "Dependents": "No",
         "tenure": 33,
         "PhoneService": "Yes",
         "MultipleLines": "Yes",
         "InternetService": "Fiber optic",
         "OnlineSecurity": "Yes",
         "OnlineBackup": "No",
         "DeviceProtection": "No",
         "TechSupport": "No",
         "StreamingTV": "No",
         "StreamingMovies": "Yes",
         "Contract": "Month-to-month",
         "PaperlessBilling": "Yes",
         "PaymentMethod": "Electronic check",
         "MonthlyCharges": 90.65,
         "TotalCharges": 2989.6,
         "AvgMonthlyCharges": 90.59,
         "Churn": 0,
         "_deepnote_index_column": 6
        },
        {
         "customerID": "4367-NHWMM",
         "gender": "Female",
         "SeniorCitizen": 0,
         "Partner": "No",
         "Dependents": "No",
         "tenure": 1,
         "PhoneService": "No",
         "MultipleLines": "No phone service",
         "InternetService": "DSL",
         "OnlineSecurity": "No",
         "OnlineBackup": "No",
         "DeviceProtection": "No",
         "TechSupport": "No",
         "StreamingTV": "No",
         "StreamingMovies": "No",
         "Contract": "Month-to-month",
         "PaperlessBilling": "Yes",
         "PaymentMethod": "Mailed check",
         "MonthlyCharges": 24.9,
         "TotalCharges": 24.9,
         "AvgMonthlyCharges": 24.9,
         "Churn": 0,
         "_deepnote_index_column": 7
        },
        {
         "customerID": "8898-KASCD",
         "gender": "Male",
         "SeniorCitizen": 0,
         "Partner": "No",
         "Dependents": "No",
         "tenure": 39,
         "PhoneService": "No",
         "MultipleLines": "No phone service",
         "InternetService": "DSL",
         "OnlineSecurity": "No",
         "OnlineBackup": "No",
         "DeviceProtection": "Yes",
         "TechSupport": "Yes",
         "StreamingTV": "No",
         "StreamingMovies": "No",
         "Contract": "One year",
         "PaperlessBilling": "No",
         "PaymentMethod": "Mailed check",
         "MonthlyCharges": 35.55,
         "TotalCharges": 1309.15,
         "AvgMonthlyCharges": 33.57,
         "Churn": 0,
         "_deepnote_index_column": 8
        },
        {
         "customerID": "8016-NCFVO",
         "gender": "Male",
         "SeniorCitizen": 1,
         "Partner": "No",
         "Dependents": "No",
         "tenure": 55,
         "PhoneService": "Yes",
         "MultipleLines": "Yes",
         "InternetService": "Fiber optic",
         "OnlineSecurity": "Yes",
         "OnlineBackup": "Yes",
         "DeviceProtection": "Yes",
         "TechSupport": "Yes",
         "StreamingTV": "Yes",
         "StreamingMovies": "Yes",
         "Contract": "Month-to-month",
         "PaperlessBilling": "Yes",
         "PaymentMethod": "Electronic check",
         "MonthlyCharges": 116.5,
         "TotalCharges": 6382.55,
         "AvgMonthlyCharges": 116.05,
         "Churn": 0,
         "_deepnote_index_column": 9
        },
        {
         "customerID": "4578-PHJYZ",
         "gender": "Male",
         "SeniorCitizen": 0,
         "Partner": "Yes",
         "Dependents": "Yes",
         "tenure": 52,
         "PhoneService": "Yes",
         "MultipleLines": "No",
         "InternetService": "DSL",
         "OnlineSecurity": "No",
         "OnlineBackup": "Yes",
         "DeviceProtection": "Yes",
         "TechSupport": "Yes",
         "StreamingTV": "Yes",
         "StreamingMovies": "No",
         "Contract": "One year",
         "PaperlessBilling": "Yes",
         "PaymentMethod": "Electronic check",
         "MonthlyCharges": 68.75,
         "TotalCharges": 3482.85,
         "AvgMonthlyCharges": 66.98,
         "Churn": 0,
         "_deepnote_index_column": 10
        },
        {
         "customerID": "2091-MJTFX",
         "gender": "Female",
         "SeniorCitizen": 0,
         "Partner": "Yes",
         "Dependents": "Yes",
         "tenure": 30,
         "PhoneService": "No",
         "MultipleLines": "No phone service",
         "InternetService": "DSL",
         "OnlineSecurity": "No",
         "OnlineBackup": "No",
         "DeviceProtection": "No",
         "TechSupport": "Yes",
         "StreamingTV": "Yes",
         "StreamingMovies": "Yes",
         "Contract": "Month-to-month",
         "PaperlessBilling": "No",
         "PaymentMethod": "Credit card (automatic)",
         "MonthlyCharges": 51.2,
         "TotalCharges": 1561.5,
         "AvgMonthlyCharges": 52.05,
         "Churn": 1,
         "_deepnote_index_column": 11
        },
        {
         "customerID": "2277-DJJDL",
         "gender": "Male",
         "SeniorCitizen": 1,
         "Partner": "Yes",
         "Dependents": "No",
         "tenure": 60,
         "PhoneService": "Yes",
         "MultipleLines": "Yes",
         "InternetService": "Fiber optic",
         "OnlineSecurity": "No",
         "OnlineBackup": "No",
         "DeviceProtection": "No",
         "TechSupport": "Yes",
         "StreamingTV": "Yes",
         "StreamingMovies": "Yes",
         "Contract": "Month-to-month",
         "PaperlessBilling": "Yes",
         "PaymentMethod": "Electronic check",
         "MonthlyCharges": 99,
         "TotalCharges": 6017.9,
         "AvgMonthlyCharges": 100.3,
         "Churn": 0,
         "_deepnote_index_column": 12
        },
        {
         "customerID": "2511-MORQY",
         "gender": "Male",
         "SeniorCitizen": 0,
         "Partner": "Yes",
         "Dependents": "Yes",
         "tenure": 50,
         "PhoneService": "Yes",
         "MultipleLines": "Yes",
         "InternetService": "DSL",
         "OnlineSecurity": "No",
         "OnlineBackup": "No",
         "DeviceProtection": "Yes",
         "TechSupport": "No",
         "StreamingTV": "No",
         "StreamingMovies": "No",
         "Contract": "One year",
         "PaperlessBilling": "No",
         "PaymentMethod": "Bank transfer (automatic)",
         "MonthlyCharges": 54.9,
         "TotalCharges": 2614.1,
         "AvgMonthlyCharges": 52.28,
         "Churn": 0,
         "_deepnote_index_column": 13
        },
        {
         "customerID": "2731-GJRDG",
         "gender": "Female",
         "SeniorCitizen": 0,
         "Partner": "No",
         "Dependents": "No",
         "tenure": 32,
         "PhoneService": "Yes",
         "MultipleLines": "Yes",
         "InternetService": "Fiber optic",
         "OnlineSecurity": "Yes",
         "OnlineBackup": "No",
         "DeviceProtection": "Yes",
         "TechSupport": "Yes",
         "StreamingTV": "Yes",
         "StreamingMovies": "Yes",
         "Contract": "One year",
         "PaperlessBilling": "Yes",
         "PaymentMethod": "Bank transfer (automatic)",
         "MonthlyCharges": 109.55,
         "TotalCharges": 3608,
         "AvgMonthlyCharges": 112.75,
         "Churn": 0,
         "_deepnote_index_column": 14
        },
        {
         "customerID": "1784-EZDKJ",
         "gender": "Male",
         "SeniorCitizen": 0,
         "Partner": "Yes",
         "Dependents": "No",
         "tenure": 51,
         "PhoneService": "Yes",
         "MultipleLines": "Yes",
         "InternetService": "Fiber optic",
         "OnlineSecurity": "No",
         "OnlineBackup": "Yes",
         "DeviceProtection": "Yes",
         "TechSupport": "No",
         "StreamingTV": "Yes",
         "StreamingMovies": "Yes",
         "Contract": "One year",
         "PaperlessBilling": "Yes",
         "PaymentMethod": "Bank transfer (automatic)",
         "MonthlyCharges": 106.8,
         "TotalCharges": 5498.8,
         "AvgMonthlyCharges": 107.82,
         "Churn": 0,
         "_deepnote_index_column": 15
        },
        {
         "customerID": "2468-SJFLM",
         "gender": "Male",
         "SeniorCitizen": 0,
         "Partner": "No",
         "Dependents": "No",
         "tenure": 1,
         "PhoneService": "Yes",
         "MultipleLines": "No",
         "InternetService": "Fiber optic",
         "OnlineSecurity": "No",
         "OnlineBackup": "No",
         "DeviceProtection": "No",
         "TechSupport": "Yes",
         "StreamingTV": "No",
         "StreamingMovies": "No",
         "Contract": "Month-to-month",
         "PaperlessBilling": "Yes",
         "PaymentMethod": "Mailed check",
         "MonthlyCharges": 74.3,
         "TotalCharges": 74.3,
         "AvgMonthlyCharges": 74.3,
         "Churn": 0,
         "_deepnote_index_column": 16
        },
        {
         "customerID": "5115-SQAAU",
         "gender": "Female",
         "SeniorCitizen": 0,
         "Partner": "Yes",
         "Dependents": "Yes",
         "tenure": 69,
         "PhoneService": "Yes",
         "MultipleLines": "Yes",
         "InternetService": "No",
         "OnlineSecurity": "No internet service",
         "OnlineBackup": "No internet service",
         "DeviceProtection": "No internet service",
         "TechSupport": "No internet service",
         "StreamingTV": "No internet service",
         "StreamingMovies": "No internet service",
         "Contract": "Two year",
         "PaperlessBilling": "Yes",
         "PaymentMethod": "Bank transfer (automatic)",
         "MonthlyCharges": 25.6,
         "TotalCharges": 1673.4,
         "AvgMonthlyCharges": 24.25,
         "Churn": 0,
         "_deepnote_index_column": 17
        },
        {
         "customerID": "8708-XPXHZ",
         "gender": "Female",
         "SeniorCitizen": 0,
         "Partner": "Yes",
         "Dependents": "Yes",
         "tenure": 42,
         "PhoneService": "Yes",
         "MultipleLines": "Yes",
         "InternetService": "Fiber optic",
         "OnlineSecurity": "No",
         "OnlineBackup": "No",
         "DeviceProtection": "No",
         "TechSupport": "No",
         "StreamingTV": "Yes",
         "StreamingMovies": "Yes",
         "Contract": "Month-to-month",
         "PaperlessBilling": "Yes",
         "PaymentMethod": "Electronic check",
         "MonthlyCharges": 94.2,
         "TotalCharges": 4186.3,
         "AvgMonthlyCharges": 99.67,
         "Churn": 1,
         "_deepnote_index_column": 18
        },
        {
         "customerID": "0601-WZHJF",
         "gender": "Male",
         "SeniorCitizen": 0,
         "Partner": "Yes",
         "Dependents": "No",
         "tenure": 14,
         "PhoneService": "No",
         "MultipleLines": "No phone service",
         "InternetService": "DSL",
         "OnlineSecurity": "No",
         "OnlineBackup": "No",
         "DeviceProtection": "No",
         "TechSupport": "No",
         "StreamingTV": "Yes",
         "StreamingMovies": "Yes",
         "Contract": "Month-to-month",
         "PaperlessBilling": "No",
         "PaymentMethod": "Electronic check",
         "MonthlyCharges": 46.35,
         "TotalCharges": 667.7,
         "AvgMonthlyCharges": 47.69,
         "Churn": 1,
         "_deepnote_index_column": 19
        },
        {
         "customerID": "0463-TXOAK",
         "gender": "Male",
         "SeniorCitizen": 0,
         "Partner": "No",
         "Dependents": "Yes",
         "tenure": 52,
         "PhoneService": "Yes",
         "MultipleLines": "Yes",
         "InternetService": "No",
         "OnlineSecurity": "No internet service",
         "OnlineBackup": "No internet service",
         "DeviceProtection": "No internet service",
         "TechSupport": "No internet service",
         "StreamingTV": "No internet service",
         "StreamingMovies": "No internet service",
         "Contract": "Two year",
         "PaperlessBilling": "No",
         "PaymentMethod": "Credit card (automatic)",
         "MonthlyCharges": 25.6,
         "TotalCharges": 1334.5,
         "AvgMonthlyCharges": 25.66,
         "Churn": 0,
         "_deepnote_index_column": 20
        },
        {
         "customerID": "4683-WYDOU",
         "gender": "Male",
         "SeniorCitizen": 0,
         "Partner": "Yes",
         "Dependents": "No",
         "tenure": 62,
         "PhoneService": "Yes",
         "MultipleLines": "Yes",
         "InternetService": "Fiber optic",
         "OnlineSecurity": "No",
         "OnlineBackup": "No",
         "DeviceProtection": "Yes",
         "TechSupport": "Yes",
         "StreamingTV": "Yes",
         "StreamingMovies": "Yes",
         "Contract": "Two year",
         "PaperlessBilling": "Yes",
         "PaymentMethod": "Bank transfer (automatic)",
         "MonthlyCharges": 107.6,
         "TotalCharges": 6912.7,
         "AvgMonthlyCharges": 111.5,
         "Churn": 0,
         "_deepnote_index_column": 21
        }
       ],
       "rows_bottom": [
        {
         "customerID": "8314-DPQHL",
         "gender": "Male",
         "SeniorCitizen": 0,
         "Partner": "No",
         "Dependents": "No",
         "tenure": 9,
         "PhoneService": "No",
         "MultipleLines": "No phone service",
         "InternetService": "DSL",
         "OnlineSecurity": "Yes",
         "OnlineBackup": "No",
         "DeviceProtection": "Yes",
         "TechSupport": "Yes",
         "StreamingTV": "No",
         "StreamingMovies": "Yes",
         "Contract": "One year",
         "PaperlessBilling": "No",
         "PaymentMethod": "Mailed check",
         "MonthlyCharges": 50.8,
         "TotalCharges": 463.6,
         "AvgMonthlyCharges": 51.51,
         "Churn": 0,
         "_deepnote_index_column": 5963
        },
        {
         "customerID": "3648-GZPHF",
         "gender": "Male",
         "SeniorCitizen": 0,
         "Partner": "Yes",
         "Dependents": "Yes",
         "tenure": 32,
         "PhoneService": "No",
         "MultipleLines": "No phone service",
         "InternetService": "DSL",
         "OnlineSecurity": "No",
         "OnlineBackup": "No",
         "DeviceProtection": "Yes",
         "TechSupport": "Yes",
         "StreamingTV": "No",
         "StreamingMovies": "No",
         "Contract": "One year",
         "PaperlessBilling": "Yes",
         "PaymentMethod": "Mailed check",
         "MonthlyCharges": 36.25,
         "TotalCharges": 1151.05,
         "AvgMonthlyCharges": 35.97,
         "Churn": 0,
         "_deepnote_index_column": 5964
        },
        {
         "customerID": "6847-KJLTS",
         "gender": "Female",
         "SeniorCitizen": 1,
         "Partner": "Yes",
         "Dependents": "No",
         "tenure": 58,
         "PhoneService": "Yes",
         "MultipleLines": "Yes",
         "InternetService": "Fiber optic",
         "OnlineSecurity": "No",
         "OnlineBackup": "No",
         "DeviceProtection": "No",
         "TechSupport": "Yes",
         "StreamingTV": "Yes",
         "StreamingMovies": "Yes",
         "Contract": "Month-to-month",
         "PaperlessBilling": "Yes",
         "PaymentMethod": "Bank transfer (automatic)",
         "MonthlyCharges": 100.4,
         "TotalCharges": 5749.8,
         "AvgMonthlyCharges": 99.13,
         "Churn": 0,
         "_deepnote_index_column": 5965
        },
        {
         "customerID": "7318-EIVKO",
         "gender": "Male",
         "SeniorCitizen": 0,
         "Partner": "No",
         "Dependents": "No",
         "tenure": 8,
         "PhoneService": "Yes",
         "MultipleLines": "Yes",
         "InternetService": "DSL",
         "OnlineSecurity": "No",
         "OnlineBackup": "No",
         "DeviceProtection": "No",
         "TechSupport": "No",
         "StreamingTV": "Yes",
         "StreamingMovies": "No",
         "Contract": "Month-to-month",
         "PaperlessBilling": "Yes",
         "PaymentMethod": "Electronic check",
         "MonthlyCharges": 59.25,
         "TotalCharges": 436.6,
         "AvgMonthlyCharges": 54.58,
         "Churn": 0,
         "_deepnote_index_column": 5966
        },
        {
         "customerID": "3137-NYQQI",
         "gender": "Male",
         "SeniorCitizen": 0,
         "Partner": "Yes",
         "Dependents": "No",
         "tenure": 17,
         "PhoneService": "Yes",
         "MultipleLines": "No",
         "InternetService": "DSL",
         "OnlineSecurity": "Yes",
         "OnlineBackup": "Yes",
         "DeviceProtection": "No",
         "TechSupport": "No",
         "StreamingTV": "No",
         "StreamingMovies": "Yes",
         "Contract": "One year",
         "PaperlessBilling": "No",
         "PaymentMethod": "Mailed check",
         "MonthlyCharges": 64.8,
         "TotalCharges": 1175.6,
         "AvgMonthlyCharges": 69.15,
         "Churn": 0,
         "_deepnote_index_column": 5967
        },
        {
         "customerID": "9365-SRSZE",
         "gender": "Male",
         "SeniorCitizen": 1,
         "Partner": "Yes",
         "Dependents": "No",
         "tenure": 27,
         "PhoneService": "Yes",
         "MultipleLines": "No",
         "InternetService": "Fiber optic",
         "OnlineSecurity": "No",
         "OnlineBackup": "No",
         "DeviceProtection": "No",
         "TechSupport": "No",
         "StreamingTV": "No",
         "StreamingMovies": "No",
         "Contract": "Month-to-month",
         "PaperlessBilling": "Yes",
         "PaymentMethod": "Electronic check",
         "MonthlyCharges": 70.55,
         "TotalCharges": 1943.9,
         "AvgMonthlyCharges": 72,
         "Churn": 0,
         "_deepnote_index_column": 5968
        },
        {
         "customerID": "2876-GZYZC",
         "gender": "Female",
         "SeniorCitizen": 0,
         "Partner": "No",
         "Dependents": "No",
         "tenure": 13,
         "PhoneService": "Yes",
         "MultipleLines": "Yes",
         "InternetService": "Fiber optic",
         "OnlineSecurity": "No",
         "OnlineBackup": "No",
         "DeviceProtection": "No",
         "TechSupport": "No",
         "StreamingTV": "No",
         "StreamingMovies": "Yes",
         "Contract": "Month-to-month",
         "PaperlessBilling": "Yes",
         "PaymentMethod": "Electronic check",
         "MonthlyCharges": 85.95,
         "TotalCharges": 1215.65,
         "AvgMonthlyCharges": 93.51,
         "Churn": 0,
         "_deepnote_index_column": 5969
        },
        {
         "customerID": "1936-CZAKF",
         "gender": "Male",
         "SeniorCitizen": 0,
         "Partner": "Yes",
         "Dependents": "No",
         "tenure": 49,
         "PhoneService": "No",
         "MultipleLines": "No phone service",
         "InternetService": "DSL",
         "OnlineSecurity": "No",
         "OnlineBackup": "Yes",
         "DeviceProtection": "No",
         "TechSupport": "No",
         "StreamingTV": "Yes",
         "StreamingMovies": "Yes",
         "Contract": "Two year",
         "PaperlessBilling": "No",
         "PaymentMethod": "Credit card (automatic)",
         "MonthlyCharges": 49.65,
         "TotalCharges": 2409.9,
         "AvgMonthlyCharges": 49.18,
         "Churn": 0,
         "_deepnote_index_column": 5970
        },
        {
         "customerID": "8908-SLFCJ",
         "gender": "Female",
         "SeniorCitizen": 0,
         "Partner": "No",
         "Dependents": "No",
         "tenure": 21,
         "PhoneService": "Yes",
         "MultipleLines": "No",
         "InternetService": "No",
         "OnlineSecurity": "No internet service",
         "OnlineBackup": "No internet service",
         "DeviceProtection": "No internet service",
         "TechSupport": "No internet service",
         "StreamingTV": "No internet service",
         "StreamingMovies": "No internet service",
         "Contract": "Two year",
         "PaperlessBilling": "Yes",
         "PaymentMethod": "Credit card (automatic)",
         "MonthlyCharges": 20.85,
         "TotalCharges": 435.25,
         "AvgMonthlyCharges": 20.73,
         "Churn": 0,
         "_deepnote_index_column": 5971
        },
        {
         "customerID": "3739-YBWAB",
         "gender": "Male",
         "SeniorCitizen": 0,
         "Partner": "Yes",
         "Dependents": "No",
         "tenure": 36,
         "PhoneService": "No",
         "MultipleLines": "No phone service",
         "InternetService": "DSL",
         "OnlineSecurity": "Yes",
         "OnlineBackup": "No",
         "DeviceProtection": "Yes",
         "TechSupport": "No",
         "StreamingTV": "No",
         "StreamingMovies": "No",
         "Contract": "One year",
         "PaperlessBilling": "No",
         "PaymentMethod": "Mailed check",
         "MonthlyCharges": 35.35,
         "TotalCharges": 1317.95,
         "AvgMonthlyCharges": 36.61,
         "Churn": 0,
         "_deepnote_index_column": 5972
        },
        {
         "customerID": "3296-SILRA",
         "gender": "Female",
         "SeniorCitizen": 1,
         "Partner": "Yes",
         "Dependents": "No",
         "tenure": 1,
         "PhoneService": "Yes",
         "MultipleLines": "No",
         "InternetService": "Fiber optic",
         "OnlineSecurity": "No",
         "OnlineBackup": "Yes",
         "DeviceProtection": "No",
         "TechSupport": "No",
         "StreamingTV": "No",
         "StreamingMovies": "No",
         "Contract": "Month-to-month",
         "PaperlessBilling": "Yes",
         "PaymentMethod": "Mailed check",
         "MonthlyCharges": 76.4,
         "TotalCharges": 76.4,
         "AvgMonthlyCharges": 76.4,
         "Churn": 1,
         "_deepnote_index_column": 5973
        },
        {
         "customerID": "8215-NGSPE",
         "gender": "Female",
         "SeniorCitizen": 0,
         "Partner": "Yes",
         "Dependents": "Yes",
         "tenure": 42,
         "PhoneService": "Yes",
         "MultipleLines": "No",
         "InternetService": "No",
         "OnlineSecurity": "No internet service",
         "OnlineBackup": "No internet service",
         "DeviceProtection": "No internet service",
         "TechSupport": "No internet service",
         "StreamingTV": "No internet service",
         "StreamingMovies": "No internet service",
         "Contract": "Two year",
         "PaperlessBilling": "No",
         "PaymentMethod": "Mailed check",
         "MonthlyCharges": 20,
         "TotalCharges": 833.55,
         "AvgMonthlyCharges": 19.85,
         "Churn": 0,
         "_deepnote_index_column": 5974
        },
        {
         "customerID": "8652-YHIYU",
         "gender": "Female",
         "SeniorCitizen": 0,
         "Partner": "No",
         "Dependents": "Yes",
         "tenure": 16,
         "PhoneService": "Yes",
         "MultipleLines": "Yes",
         "InternetService": "Fiber optic",
         "OnlineSecurity": "No",
         "OnlineBackup": "No",
         "DeviceProtection": "No",
         "TechSupport": "Yes",
         "StreamingTV": "No",
         "StreamingMovies": "No",
         "Contract": "One year",
         "PaperlessBilling": "Yes",
         "PaymentMethod": "Credit card (automatic)",
         "MonthlyCharges": 79.5,
         "TotalCharges": 1264.2,
         "AvgMonthlyCharges": 79.01,
         "Churn": 0,
         "_deepnote_index_column": 5975
        },
        {
         "customerID": "6386-SZZKH",
         "gender": "Female",
         "SeniorCitizen": 0,
         "Partner": "Yes",
         "Dependents": "Yes",
         "tenure": 49,
         "PhoneService": "Yes",
         "MultipleLines": "Yes",
         "InternetService": "Fiber optic",
         "OnlineSecurity": "No",
         "OnlineBackup": "Yes",
         "DeviceProtection": "Yes",
         "TechSupport": "Yes",
         "StreamingTV": "Yes",
         "StreamingMovies": "Yes",
         "Contract": "Two year",
         "PaperlessBilling": "Yes",
         "PaymentMethod": "Bank transfer (automatic)",
         "MonthlyCharges": 107.95,
         "TotalCharges": 5293.2,
         "AvgMonthlyCharges": 108.02,
         "Churn": 1,
         "_deepnote_index_column": 5976
        },
        {
         "customerID": "9076-AXYIK",
         "gender": "Male",
         "SeniorCitizen": 1,
         "Partner": "Yes",
         "Dependents": "No",
         "tenure": 64,
         "PhoneService": "Yes",
         "MultipleLines": "Yes",
         "InternetService": "Fiber optic",
         "OnlineSecurity": "No",
         "OnlineBackup": "No",
         "DeviceProtection": "Yes",
         "TechSupport": "Yes",
         "StreamingTV": "Yes",
         "StreamingMovies": "Yes",
         "Contract": "Two year",
         "PaperlessBilling": "No",
         "PaymentMethod": "Electronic check",
         "MonthlyCharges": 102.1,
         "TotalCharges": 6538.45,
         "AvgMonthlyCharges": 102.16,
         "Churn": 0,
         "_deepnote_index_column": 5977
        },
        {
         "customerID": "3278-FSIXX",
         "gender": "Female",
         "SeniorCitizen": 0,
         "Partner": "No",
         "Dependents": "No",
         "tenure": 2,
         "PhoneService": "Yes",
         "MultipleLines": "No",
         "InternetService": "DSL",
         "OnlineSecurity": "No",
         "OnlineBackup": "No",
         "DeviceProtection": "No",
         "TechSupport": "No",
         "StreamingTV": "No",
         "StreamingMovies": "No",
         "Contract": "Month-to-month",
         "PaperlessBilling": "Yes",
         "PaymentMethod": "Mailed check",
         "MonthlyCharges": 45.25,
         "TotalCharges": 74.2,
         "AvgMonthlyCharges": 37.1,
         "Churn": 0,
         "_deepnote_index_column": 5978
        },
        {
         "customerID": "6408-WHTEF",
         "gender": "Male",
         "SeniorCitizen": 0,
         "Partner": "Yes",
         "Dependents": "Yes",
         "tenure": 72,
         "PhoneService": "Yes",
         "MultipleLines": "Yes",
         "InternetService": "DSL",
         "OnlineSecurity": "Yes",
         "OnlineBackup": "Yes",
         "DeviceProtection": "Yes",
         "TechSupport": "Yes",
         "StreamingTV": "Yes",
         "StreamingMovies": "Yes",
         "Contract": "Two year",
         "PaperlessBilling": "Yes",
         "PaymentMethod": "Mailed check",
         "MonthlyCharges": 89.4,
         "TotalCharges": 6376.55,
         "AvgMonthlyCharges": 88.56,
         "Churn": 0,
         "_deepnote_index_column": 5979
        },
        {
         "customerID": "6032-IGALN",
         "gender": "Female",
         "SeniorCitizen": 0,
         "Partner": "No",
         "Dependents": "No",
         "tenure": 1,
         "PhoneService": "No",
         "MultipleLines": "No phone service",
         "InternetService": "DSL",
         "OnlineSecurity": "No",
         "OnlineBackup": "No",
         "DeviceProtection": "No",
         "TechSupport": "No",
         "StreamingTV": "No",
         "StreamingMovies": "No",
         "Contract": "Month-to-month",
         "PaperlessBilling": "Yes",
         "PaymentMethod": "Mailed check",
         "MonthlyCharges": 25.1,
         "TotalCharges": 25.1,
         "AvgMonthlyCharges": 25.1,
         "Churn": 1,
         "_deepnote_index_column": 5980
        },
        {
         "customerID": "0684-AOSIH",
         "gender": "Male",
         "SeniorCitizen": 0,
         "Partner": "Yes",
         "Dependents": "No",
         "tenure": 1,
         "PhoneService": "Yes",
         "MultipleLines": "No",
         "InternetService": "Fiber optic",
         "OnlineSecurity": "Yes",
         "OnlineBackup": "No",
         "DeviceProtection": "No",
         "TechSupport": "No",
         "StreamingTV": "Yes",
         "StreamingMovies": "Yes",
         "Contract": "Month-to-month",
         "PaperlessBilling": "Yes",
         "PaymentMethod": "Electronic check",
         "MonthlyCharges": 95,
         "TotalCharges": 95,
         "AvgMonthlyCharges": 95,
         "Churn": 1,
         "_deepnote_index_column": 5981
        },
        {
         "customerID": "5982-PSMKW",
         "gender": "Female",
         "SeniorCitizen": 0,
         "Partner": "Yes",
         "Dependents": "Yes",
         "tenure": 23,
         "PhoneService": "Yes",
         "MultipleLines": "Yes",
         "InternetService": "DSL",
         "OnlineSecurity": "Yes",
         "OnlineBackup": "Yes",
         "DeviceProtection": "Yes",
         "TechSupport": "Yes",
         "StreamingTV": "Yes",
         "StreamingMovies": "Yes",
         "Contract": "Two year",
         "PaperlessBilling": "Yes",
         "PaymentMethod": "Credit card (automatic)",
         "MonthlyCharges": 91.1,
         "TotalCharges": 2198.3,
         "AvgMonthlyCharges": 95.58,
         "Churn": 0,
         "_deepnote_index_column": 5982
        },
        {
         "customerID": "8044-BGWPI",
         "gender": "Male",
         "SeniorCitizen": 0,
         "Partner": "Yes",
         "Dependents": "Yes",
         "tenure": 12,
         "PhoneService": "Yes",
         "MultipleLines": "No",
         "InternetService": "No",
         "OnlineSecurity": "No internet service",
         "OnlineBackup": "No internet service",
         "DeviceProtection": "No internet service",
         "TechSupport": "No internet service",
         "StreamingTV": "No internet service",
         "StreamingMovies": "No internet service",
         "Contract": "Month-to-month",
         "PaperlessBilling": "Yes",
         "PaymentMethod": "Electronic check",
         "MonthlyCharges": 21.15,
         "TotalCharges": 306.05,
         "AvgMonthlyCharges": 25.5,
         "Churn": 0,
         "_deepnote_index_column": 5983
        },
        {
         "customerID": "7450-NWRTR",
         "gender": "Male",
         "SeniorCitizen": 1,
         "Partner": "No",
         "Dependents": "No",
         "tenure": 12,
         "PhoneService": "Yes",
         "MultipleLines": "Yes",
         "InternetService": "Fiber optic",
         "OnlineSecurity": "No",
         "OnlineBackup": "No",
         "DeviceProtection": "Yes",
         "TechSupport": "No",
         "StreamingTV": "Yes",
         "StreamingMovies": "Yes",
         "Contract": "Month-to-month",
         "PaperlessBilling": "Yes",
         "PaymentMethod": "Electronic check",
         "MonthlyCharges": 99.45,
         "TotalCharges": 1200.15,
         "AvgMonthlyCharges": 100.01,
         "Churn": 1,
         "_deepnote_index_column": 5984
        },
        {
         "customerID": "4795-UXVCJ",
         "gender": "Male",
         "SeniorCitizen": 0,
         "Partner": "No",
         "Dependents": "No",
         "tenure": 26,
         "PhoneService": "Yes",
         "MultipleLines": "No",
         "InternetService": "No",
         "OnlineSecurity": "No internet service",
         "OnlineBackup": "No internet service",
         "DeviceProtection": "No internet service",
         "TechSupport": "No internet service",
         "StreamingTV": "No internet service",
         "StreamingMovies": "No internet service",
         "Contract": "One year",
         "PaperlessBilling": "No",
         "PaymentMethod": "Credit card (automatic)",
         "MonthlyCharges": 19.8,
         "TotalCharges": 457.3,
         "AvgMonthlyCharges": 17.59,
         "Churn": 0,
         "_deepnote_index_column": 5985
        }
       ]
      },
      "text/plain": "      customerID  gender  SeniorCitizen Partner Dependents  tenure  \\\n0     7010-BRBUU    Male              0     Yes        Yes      72   \n1     9688-YGXVR  Female              0      No         No      44   \n2     9286-DOJGF  Female              1     Yes         No      38   \n3     6994-KERXL    Male              0      No         No       4   \n4     2181-UAESM    Male              0      No         No       2   \n...          ...     ...            ...     ...        ...     ...   \n5981  0684-AOSIH    Male              0     Yes         No       1   \n5982  5982-PSMKW  Female              0     Yes        Yes      23   \n5983  8044-BGWPI    Male              0     Yes        Yes      12   \n5984  7450-NWRTR    Male              1      No         No      12   \n5985  4795-UXVCJ    Male              0      No         No      26   \n\n     PhoneService MultipleLines InternetService       OnlineSecurity  ...  \\\n0             Yes           Yes              No  No internet service  ...   \n1             Yes            No     Fiber optic                   No  ...   \n2             Yes           Yes     Fiber optic                   No  ...   \n3             Yes            No             DSL                   No  ...   \n4             Yes            No             DSL                  Yes  ...   \n...           ...           ...             ...                  ...  ...   \n5981          Yes            No     Fiber optic                  Yes  ...   \n5982          Yes           Yes             DSL                  Yes  ...   \n5983          Yes            No              No  No internet service  ...   \n5984          Yes           Yes     Fiber optic                   No  ...   \n5985          Yes            No              No  No internet service  ...   \n\n              TechSupport          StreamingTV      StreamingMovies  \\\n0     No internet service  No internet service  No internet service   \n1                      No                  Yes                   No   \n2                      No                   No                   No   \n3                      No                   No                  Yes   \n4                      No                   No                   No   \n...                   ...                  ...                  ...   \n5981                   No                  Yes                  Yes   \n5982                  Yes                  Yes                  Yes   \n5983  No internet service  No internet service  No internet service   \n5984                   No                  Yes                  Yes   \n5985  No internet service  No internet service  No internet service   \n\n            Contract PaperlessBilling              PaymentMethod  \\\n0           Two year               No    Credit card (automatic)   \n1     Month-to-month              Yes    Credit card (automatic)   \n2     Month-to-month              Yes  Bank transfer (automatic)   \n3     Month-to-month              Yes           Electronic check   \n4     Month-to-month               No           Electronic check   \n...              ...              ...                        ...   \n5981  Month-to-month              Yes           Electronic check   \n5982        Two year              Yes    Credit card (automatic)   \n5983  Month-to-month              Yes           Electronic check   \n5984  Month-to-month              Yes           Electronic check   \n5985        One year               No    Credit card (automatic)   \n\n     MonthlyCharges TotalCharges  AvgMonthlyCharges  Churn  \n0             24.10      1734.65              24.09      0  \n1             88.15      3973.20              90.30      0  \n2             74.95      2869.85              75.52      1  \n3             55.90       238.50              59.62      0  \n4             53.45       119.50              59.75      0  \n...             ...          ...                ...    ...  \n5981          95.00        95.00              95.00      1  \n5982          91.10      2198.30              95.58      0  \n5983          21.15       306.05              25.50      0  \n5984          99.45      1200.15             100.01      1  \n5985          19.80       457.30              17.59      0  \n\n[5986 rows x 22 columns]",
      "text/html": "<div>\n<style scoped>\n    .dataframe tbody tr th:only-of-type {\n        vertical-align: middle;\n    }\n\n    .dataframe tbody tr th {\n        vertical-align: top;\n    }\n\n    .dataframe thead th {\n        text-align: right;\n    }\n</style>\n<table border=\"1\" class=\"dataframe\">\n  <thead>\n    <tr style=\"text-align: right;\">\n      <th></th>\n      <th>customerID</th>\n      <th>gender</th>\n      <th>SeniorCitizen</th>\n      <th>Partner</th>\n      <th>Dependents</th>\n      <th>tenure</th>\n      <th>PhoneService</th>\n      <th>MultipleLines</th>\n      <th>InternetService</th>\n      <th>OnlineSecurity</th>\n      <th>...</th>\n      <th>TechSupport</th>\n      <th>StreamingTV</th>\n      <th>StreamingMovies</th>\n      <th>Contract</th>\n      <th>PaperlessBilling</th>\n      <th>PaymentMethod</th>\n      <th>MonthlyCharges</th>\n      <th>TotalCharges</th>\n      <th>AvgMonthlyCharges</th>\n      <th>Churn</th>\n    </tr>\n  </thead>\n  <tbody>\n    <tr>\n      <th>0</th>\n      <td>7010-BRBUU</td>\n      <td>Male</td>\n      <td>0</td>\n      <td>Yes</td>\n      <td>Yes</td>\n      <td>72</td>\n      <td>Yes</td>\n      <td>Yes</td>\n      <td>No</td>\n      <td>No internet service</td>\n      <td>...</td>\n      <td>No internet service</td>\n      <td>No internet service</td>\n      <td>No internet service</td>\n      <td>Two year</td>\n      <td>No</td>\n      <td>Credit card (automatic)</td>\n      <td>24.10</td>\n      <td>1734.65</td>\n      <td>24.09</td>\n      <td>0</td>\n    </tr>\n    <tr>\n      <th>1</th>\n      <td>9688-YGXVR</td>\n      <td>Female</td>\n      <td>0</td>\n      <td>No</td>\n      <td>No</td>\n      <td>44</td>\n      <td>Yes</td>\n      <td>No</td>\n      <td>Fiber optic</td>\n      <td>No</td>\n      <td>...</td>\n      <td>No</td>\n      <td>Yes</td>\n      <td>No</td>\n      <td>Month-to-month</td>\n      <td>Yes</td>\n      <td>Credit card (automatic)</td>\n      <td>88.15</td>\n      <td>3973.20</td>\n      <td>90.30</td>\n      <td>0</td>\n    </tr>\n    <tr>\n      <th>2</th>\n      <td>9286-DOJGF</td>\n      <td>Female</td>\n      <td>1</td>\n      <td>Yes</td>\n      <td>No</td>\n      <td>38</td>\n      <td>Yes</td>\n      <td>Yes</td>\n      <td>Fiber optic</td>\n      <td>No</td>\n      <td>...</td>\n      <td>No</td>\n      <td>No</td>\n      <td>No</td>\n      <td>Month-to-month</td>\n      <td>Yes</td>\n      <td>Bank transfer (automatic)</td>\n      <td>74.95</td>\n      <td>2869.85</td>\n      <td>75.52</td>\n      <td>1</td>\n    </tr>\n    <tr>\n      <th>3</th>\n      <td>6994-KERXL</td>\n      <td>Male</td>\n      <td>0</td>\n      <td>No</td>\n      <td>No</td>\n      <td>4</td>\n      <td>Yes</td>\n      <td>No</td>\n      <td>DSL</td>\n      <td>No</td>\n      <td>...</td>\n      <td>No</td>\n      <td>No</td>\n      <td>Yes</td>\n      <td>Month-to-month</td>\n      <td>Yes</td>\n      <td>Electronic check</td>\n      <td>55.90</td>\n      <td>238.50</td>\n      <td>59.62</td>\n      <td>0</td>\n    </tr>\n    <tr>\n      <th>4</th>\n      <td>2181-UAESM</td>\n      <td>Male</td>\n      <td>0</td>\n      <td>No</td>\n      <td>No</td>\n      <td>2</td>\n      <td>Yes</td>\n      <td>No</td>\n      <td>DSL</td>\n      <td>Yes</td>\n      <td>...</td>\n      <td>No</td>\n      <td>No</td>\n      <td>No</td>\n      <td>Month-to-month</td>\n      <td>No</td>\n      <td>Electronic check</td>\n      <td>53.45</td>\n      <td>119.50</td>\n      <td>59.75</td>\n      <td>0</td>\n    </tr>\n    <tr>\n      <th>...</th>\n      <td>...</td>\n      <td>...</td>\n      <td>...</td>\n      <td>...</td>\n      <td>...</td>\n      <td>...</td>\n      <td>...</td>\n      <td>...</td>\n      <td>...</td>\n      <td>...</td>\n      <td>...</td>\n      <td>...</td>\n      <td>...</td>\n      <td>...</td>\n      <td>...</td>\n      <td>...</td>\n      <td>...</td>\n      <td>...</td>\n      <td>...</td>\n      <td>...</td>\n      <td>...</td>\n    </tr>\n    <tr>\n      <th>5981</th>\n      <td>0684-AOSIH</td>\n      <td>Male</td>\n      <td>0</td>\n      <td>Yes</td>\n      <td>No</td>\n      <td>1</td>\n      <td>Yes</td>\n      <td>No</td>\n      <td>Fiber optic</td>\n      <td>Yes</td>\n      <td>...</td>\n      <td>No</td>\n      <td>Yes</td>\n      <td>Yes</td>\n      <td>Month-to-month</td>\n      <td>Yes</td>\n      <td>Electronic check</td>\n      <td>95.00</td>\n      <td>95.00</td>\n      <td>95.00</td>\n      <td>1</td>\n    </tr>\n    <tr>\n      <th>5982</th>\n      <td>5982-PSMKW</td>\n      <td>Female</td>\n      <td>0</td>\n      <td>Yes</td>\n      <td>Yes</td>\n      <td>23</td>\n      <td>Yes</td>\n      <td>Yes</td>\n      <td>DSL</td>\n      <td>Yes</td>\n      <td>...</td>\n      <td>Yes</td>\n      <td>Yes</td>\n      <td>Yes</td>\n      <td>Two year</td>\n      <td>Yes</td>\n      <td>Credit card (automatic)</td>\n      <td>91.10</td>\n      <td>2198.30</td>\n      <td>95.58</td>\n      <td>0</td>\n    </tr>\n    <tr>\n      <th>5983</th>\n      <td>8044-BGWPI</td>\n      <td>Male</td>\n      <td>0</td>\n      <td>Yes</td>\n      <td>Yes</td>\n      <td>12</td>\n      <td>Yes</td>\n      <td>No</td>\n      <td>No</td>\n      <td>No internet service</td>\n      <td>...</td>\n      <td>No internet service</td>\n      <td>No internet service</td>\n      <td>No internet service</td>\n      <td>Month-to-month</td>\n      <td>Yes</td>\n      <td>Electronic check</td>\n      <td>21.15</td>\n      <td>306.05</td>\n      <td>25.50</td>\n      <td>0</td>\n    </tr>\n    <tr>\n      <th>5984</th>\n      <td>7450-NWRTR</td>\n      <td>Male</td>\n      <td>1</td>\n      <td>No</td>\n      <td>No</td>\n      <td>12</td>\n      <td>Yes</td>\n      <td>Yes</td>\n      <td>Fiber optic</td>\n      <td>No</td>\n      <td>...</td>\n      <td>No</td>\n      <td>Yes</td>\n      <td>Yes</td>\n      <td>Month-to-month</td>\n      <td>Yes</td>\n      <td>Electronic check</td>\n      <td>99.45</td>\n      <td>1200.15</td>\n      <td>100.01</td>\n      <td>1</td>\n    </tr>\n    <tr>\n      <th>5985</th>\n      <td>4795-UXVCJ</td>\n      <td>Male</td>\n      <td>0</td>\n      <td>No</td>\n      <td>No</td>\n      <td>26</td>\n      <td>Yes</td>\n      <td>No</td>\n      <td>No</td>\n      <td>No internet service</td>\n      <td>...</td>\n      <td>No internet service</td>\n      <td>No internet service</td>\n      <td>No internet service</td>\n      <td>One year</td>\n      <td>No</td>\n      <td>Credit card (automatic)</td>\n      <td>19.80</td>\n      <td>457.30</td>\n      <td>17.59</td>\n      <td>0</td>\n    </tr>\n  </tbody>\n</table>\n<p>5986 rows × 22 columns</p>\n</div>"
     },
     "metadata": {}
    }
   ]
  },
  {
   "cell_type": "markdown",
   "source": "number of active services per row\n- Phone service implies MultipleLines\n- InternetService implies OtherServices",
   "metadata": {
    "cell_id": "00020-1bc65820-bb7e-4663-913c-c922ec1e5c23",
    "deepnote_cell_type": "markdown"
   }
  },
  {
   "cell_type": "code",
   "metadata": {
    "cell_id": "00021-2b793c68-f6a5-49d0-b2de-54e12b92d42d",
    "deepnote_to_be_reexecuted": false,
    "source_hash": "5f338f20",
    "execution_start": 1621866917755,
    "execution_millis": 0,
    "deepnote_cell_type": "code"
   },
   "source": "df['Nservices'] = (df[df.columns[6:15]] == 'Yes').sum(axis=1)\ndf['Nservices'] = np.where(df['InternetService'] == 'No', df['Nservices'], df['Nservices'] + 1)",
   "execution_count": 13,
   "outputs": []
  },
  {
   "cell_type": "code",
   "metadata": {
    "cell_id": "00022-4e532eba-10b9-4b07-ad6e-6a1d7a849ce7",
    "deepnote_to_be_reexecuted": false,
    "source_hash": "b142610a",
    "execution_start": 1621866917756,
    "execution_millis": 0,
    "deepnote_cell_type": "code"
   },
   "source": "# pd.set_option('max_columns', None)",
   "execution_count": 14,
   "outputs": []
  },
  {
   "cell_type": "markdown",
   "source": "## Exploratory Analysis ",
   "metadata": {
    "cell_id": "00023-74b2bf4c-c0ec-466d-a374-1cce4c990b3a",
    "deepnote_cell_type": "markdown"
   }
  },
  {
   "cell_type": "code",
   "metadata": {
    "cell_id": "00024-33f20b08-5314-4a23-8d3e-f43624c1a58d",
    "deepnote_to_be_reexecuted": false,
    "source_hash": "f88152d9",
    "execution_start": 1621866917756,
    "execution_millis": 23,
    "deepnote_cell_type": "code"
   },
   "source": "df.describe()",
   "execution_count": 15,
   "outputs": [
    {
     "output_type": "execute_result",
     "execution_count": 15,
     "data": {
      "application/vnd.deepnote.dataframe.v2+json": {
       "row_count": 8,
       "column_count": 7,
       "columns": [
        {
         "name": "SeniorCitizen",
         "dtype": "float64",
         "stats": {
          "unique_count": 5,
          "nan_count": 0,
          "min": "0.0",
          "max": "5986.0",
          "histogram": [
           {
            "bin_start": 0,
            "bin_end": 598.6,
            "count": 7
           },
           {
            "bin_start": 598.6,
            "bin_end": 1197.2,
            "count": 0
           },
           {
            "bin_start": 1197.2,
            "bin_end": 1795.8000000000002,
            "count": 0
           },
           {
            "bin_start": 1795.8000000000002,
            "bin_end": 2394.4,
            "count": 0
           },
           {
            "bin_start": 2394.4,
            "bin_end": 2993,
            "count": 0
           },
           {
            "bin_start": 2993,
            "bin_end": 3591.6000000000004,
            "count": 0
           },
           {
            "bin_start": 3591.6000000000004,
            "bin_end": 4190.2,
            "count": 0
           },
           {
            "bin_start": 4190.2,
            "bin_end": 4788.8,
            "count": 0
           },
           {
            "bin_start": 4788.8,
            "bin_end": 5387.400000000001,
            "count": 0
           },
           {
            "bin_start": 5387.400000000001,
            "bin_end": 5986,
            "count": 1
           }
          ]
         }
        },
        {
         "name": "tenure",
         "dtype": "float64",
         "stats": {
          "unique_count": 8,
          "nan_count": 0,
          "min": "0.0",
          "max": "5986.0",
          "histogram": [
           {
            "bin_start": 0,
            "bin_end": 598.6,
            "count": 7
           },
           {
            "bin_start": 598.6,
            "bin_end": 1197.2,
            "count": 0
           },
           {
            "bin_start": 1197.2,
            "bin_end": 1795.8000000000002,
            "count": 0
           },
           {
            "bin_start": 1795.8000000000002,
            "bin_end": 2394.4,
            "count": 0
           },
           {
            "bin_start": 2394.4,
            "bin_end": 2993,
            "count": 0
           },
           {
            "bin_start": 2993,
            "bin_end": 3591.6000000000004,
            "count": 0
           },
           {
            "bin_start": 3591.6000000000004,
            "bin_end": 4190.2,
            "count": 0
           },
           {
            "bin_start": 4190.2,
            "bin_end": 4788.8,
            "count": 0
           },
           {
            "bin_start": 4788.8,
            "bin_end": 5387.400000000001,
            "count": 0
           },
           {
            "bin_start": 5387.400000000001,
            "bin_end": 5986,
            "count": 1
           }
          ]
         }
        },
        {
         "name": "MonthlyCharges",
         "dtype": "float64",
         "stats": {
          "unique_count": 8,
          "nan_count": 0,
          "min": "18.25",
          "max": "5986.0",
          "histogram": [
           {
            "bin_start": 18.25,
            "bin_end": 615.025,
            "count": 7
           },
           {
            "bin_start": 615.025,
            "bin_end": 1211.8,
            "count": 0
           },
           {
            "bin_start": 1211.8,
            "bin_end": 1808.5749999999998,
            "count": 0
           },
           {
            "bin_start": 1808.5749999999998,
            "bin_end": 2405.35,
            "count": 0
           },
           {
            "bin_start": 2405.35,
            "bin_end": 3002.125,
            "count": 0
           },
           {
            "bin_start": 3002.125,
            "bin_end": 3598.8999999999996,
            "count": 0
           },
           {
            "bin_start": 3598.8999999999996,
            "bin_end": 4195.675,
            "count": 0
           },
           {
            "bin_start": 4195.675,
            "bin_end": 4792.45,
            "count": 0
           },
           {
            "bin_start": 4792.45,
            "bin_end": 5389.224999999999,
            "count": 0
           },
           {
            "bin_start": 5389.224999999999,
            "bin_end": 5986,
            "count": 1
           }
          ]
         }
        },
        {
         "name": "TotalCharges",
         "dtype": "float64",
         "stats": {
          "unique_count": 8,
          "nan_count": 0,
          "min": "0.0",
          "max": "8684.8",
          "histogram": [
           {
            "bin_start": 0,
            "bin_end": 868.4799999999999,
            "count": 2
           },
           {
            "bin_start": 868.4799999999999,
            "bin_end": 1736.9599999999998,
            "count": 1
           },
           {
            "bin_start": 1736.9599999999998,
            "bin_end": 2605.4399999999996,
            "count": 2
           },
           {
            "bin_start": 2605.4399999999996,
            "bin_end": 3473.9199999999996,
            "count": 0
           },
           {
            "bin_start": 3473.9199999999996,
            "bin_end": 4342.4,
            "count": 1
           },
           {
            "bin_start": 4342.4,
            "bin_end": 5210.879999999999,
            "count": 0
           },
           {
            "bin_start": 5210.879999999999,
            "bin_end": 6079.36,
            "count": 1
           },
           {
            "bin_start": 6079.36,
            "bin_end": 6947.839999999999,
            "count": 0
           },
           {
            "bin_start": 6947.839999999999,
            "bin_end": 7816.319999999999,
            "count": 0
           },
           {
            "bin_start": 7816.319999999999,
            "bin_end": 8684.8,
            "count": 1
           }
          ]
         }
        },
        {
         "name": "AvgMonthlyCharges",
         "dtype": "float64",
         "stats": {
          "unique_count": 8,
          "nan_count": 0,
          "min": "0.0",
          "max": "5986.0",
          "histogram": [
           {
            "bin_start": 0,
            "bin_end": 598.6,
            "count": 7
           },
           {
            "bin_start": 598.6,
            "bin_end": 1197.2,
            "count": 0
           },
           {
            "bin_start": 1197.2,
            "bin_end": 1795.8000000000002,
            "count": 0
           },
           {
            "bin_start": 1795.8000000000002,
            "bin_end": 2394.4,
            "count": 0
           },
           {
            "bin_start": 2394.4,
            "bin_end": 2993,
            "count": 0
           },
           {
            "bin_start": 2993,
            "bin_end": 3591.6000000000004,
            "count": 0
           },
           {
            "bin_start": 3591.6000000000004,
            "bin_end": 4190.2,
            "count": 0
           },
           {
            "bin_start": 4190.2,
            "bin_end": 4788.8,
            "count": 0
           },
           {
            "bin_start": 4788.8,
            "bin_end": 5387.400000000001,
            "count": 0
           },
           {
            "bin_start": 5387.400000000001,
            "bin_end": 5986,
            "count": 1
           }
          ]
         }
        },
        {
         "name": "Churn",
         "dtype": "float64",
         "stats": {
          "unique_count": 5,
          "nan_count": 0,
          "min": "0.0",
          "max": "5986.0",
          "histogram": [
           {
            "bin_start": 0,
            "bin_end": 598.6,
            "count": 7
           },
           {
            "bin_start": 598.6,
            "bin_end": 1197.2,
            "count": 0
           },
           {
            "bin_start": 1197.2,
            "bin_end": 1795.8000000000002,
            "count": 0
           },
           {
            "bin_start": 1795.8000000000002,
            "bin_end": 2394.4,
            "count": 0
           },
           {
            "bin_start": 2394.4,
            "bin_end": 2993,
            "count": 0
           },
           {
            "bin_start": 2993,
            "bin_end": 3591.6000000000004,
            "count": 0
           },
           {
            "bin_start": 3591.6000000000004,
            "bin_end": 4190.2,
            "count": 0
           },
           {
            "bin_start": 4190.2,
            "bin_end": 4788.8,
            "count": 0
           },
           {
            "bin_start": 4788.8,
            "bin_end": 5387.400000000001,
            "count": 0
           },
           {
            "bin_start": 5387.400000000001,
            "bin_end": 5986,
            "count": 1
           }
          ]
         }
        },
        {
         "name": "Nservices",
         "dtype": "float64",
         "stats": {
          "unique_count": 8,
          "nan_count": 0,
          "min": "1.0",
          "max": "5986.0",
          "histogram": [
           {
            "bin_start": 1,
            "bin_end": 599.5,
            "count": 7
           },
           {
            "bin_start": 599.5,
            "bin_end": 1198,
            "count": 0
           },
           {
            "bin_start": 1198,
            "bin_end": 1796.5,
            "count": 0
           },
           {
            "bin_start": 1796.5,
            "bin_end": 2395,
            "count": 0
           },
           {
            "bin_start": 2395,
            "bin_end": 2993.5,
            "count": 0
           },
           {
            "bin_start": 2993.5,
            "bin_end": 3592,
            "count": 0
           },
           {
            "bin_start": 3592,
            "bin_end": 4190.5,
            "count": 0
           },
           {
            "bin_start": 4190.5,
            "bin_end": 4789,
            "count": 0
           },
           {
            "bin_start": 4789,
            "bin_end": 5387.5,
            "count": 0
           },
           {
            "bin_start": 5387.5,
            "bin_end": 5986,
            "count": 1
           }
          ]
         }
        },
        {
         "name": "_deepnote_index_column",
         "dtype": "object"
        }
       ],
       "rows_top": [
        {
         "SeniorCitizen": 5986,
         "tenure": 5986,
         "MonthlyCharges": 5986,
         "TotalCharges": 5986,
         "AvgMonthlyCharges": 5986,
         "Churn": 5986,
         "Nservices": 5986,
         "_deepnote_index_column": "count"
        },
        {
         "SeniorCitizen": 0.16137654527230202,
         "tenure": 32.46876044102907,
         "MonthlyCharges": 64.80221349816237,
         "TotalCharges": 2294.2215586368193,
         "AvgMonthlyCharges": 64.73567156698964,
         "Churn": 0.2651186100902105,
         "Nservices": 4.15586368192449,
         "_deepnote_index_column": "mean"
        },
        {
         "SeniorCitizen": 0.3679086410122601,
         "tenure": 24.51639063752673,
         "MonthlyCharges": 30.114701633888114,
         "TotalCharges": 2274.164123638949,
         "AvgMonthlyCharges": 30.309495144781703,
         "Churn": 0.4414332178775785,
         "Nservices": 2.322228468542882,
         "_deepnote_index_column": "std"
        },
        {
         "SeniorCitizen": 0,
         "tenure": 0,
         "MonthlyCharges": 18.25,
         "TotalCharges": 0,
         "AvgMonthlyCharges": 0,
         "Churn": 0,
         "Nservices": 1,
         "_deepnote_index_column": "min"
        },
        {
         "SeniorCitizen": 0,
         "tenure": 9,
         "MonthlyCharges": 35.65,
         "TotalCharges": 401.5875,
         "AvgMonthlyCharges": 35.9175,
         "Churn": 0,
         "Nservices": 2,
         "_deepnote_index_column": "25%"
        },
        {
         "SeniorCitizen": 0,
         "tenure": 29,
         "MonthlyCharges": 70.4,
         "TotalCharges": 1408.575,
         "AvgMonthlyCharges": 70.45,
         "Churn": 0,
         "Nservices": 4,
         "_deepnote_index_column": "50%"
        },
        {
         "SeniorCitizen": 0,
         "tenure": 56,
         "MonthlyCharges": 89.9,
         "TotalCharges": 3841.5,
         "AvgMonthlyCharges": 90.29,
         "Churn": 1,
         "Nservices": 6,
         "_deepnote_index_column": "75%"
        },
        {
         "SeniorCitizen": 1,
         "tenure": 72,
         "MonthlyCharges": 118.75,
         "TotalCharges": 8684.8,
         "AvgMonthlyCharges": 121.4,
         "Churn": 1,
         "Nservices": 9,
         "_deepnote_index_column": "max"
        }
       ],
       "rows_bottom": null
      },
      "text/plain": "       SeniorCitizen       tenure  MonthlyCharges  TotalCharges  \\\ncount    5986.000000  5986.000000     5986.000000   5986.000000   \nmean        0.161377    32.468760       64.802213   2294.221559   \nstd         0.367909    24.516391       30.114702   2274.164124   \nmin         0.000000     0.000000       18.250000      0.000000   \n25%         0.000000     9.000000       35.650000    401.587500   \n50%         0.000000    29.000000       70.400000   1408.575000   \n75%         0.000000    56.000000       89.900000   3841.500000   \nmax         1.000000    72.000000      118.750000   8684.800000   \n\n       AvgMonthlyCharges        Churn    Nservices  \ncount        5986.000000  5986.000000  5986.000000  \nmean           64.735672     0.265119     4.155864  \nstd            30.309495     0.441433     2.322228  \nmin             0.000000     0.000000     1.000000  \n25%            35.917500     0.000000     2.000000  \n50%            70.450000     0.000000     4.000000  \n75%            90.290000     1.000000     6.000000  \nmax           121.400000     1.000000     9.000000  ",
      "text/html": "<div>\n<style scoped>\n    .dataframe tbody tr th:only-of-type {\n        vertical-align: middle;\n    }\n\n    .dataframe tbody tr th {\n        vertical-align: top;\n    }\n\n    .dataframe thead th {\n        text-align: right;\n    }\n</style>\n<table border=\"1\" class=\"dataframe\">\n  <thead>\n    <tr style=\"text-align: right;\">\n      <th></th>\n      <th>SeniorCitizen</th>\n      <th>tenure</th>\n      <th>MonthlyCharges</th>\n      <th>TotalCharges</th>\n      <th>AvgMonthlyCharges</th>\n      <th>Churn</th>\n      <th>Nservices</th>\n    </tr>\n  </thead>\n  <tbody>\n    <tr>\n      <th>count</th>\n      <td>5986.000000</td>\n      <td>5986.000000</td>\n      <td>5986.000000</td>\n      <td>5986.000000</td>\n      <td>5986.000000</td>\n      <td>5986.000000</td>\n      <td>5986.000000</td>\n    </tr>\n    <tr>\n      <th>mean</th>\n      <td>0.161377</td>\n      <td>32.468760</td>\n      <td>64.802213</td>\n      <td>2294.221559</td>\n      <td>64.735672</td>\n      <td>0.265119</td>\n      <td>4.155864</td>\n    </tr>\n    <tr>\n      <th>std</th>\n      <td>0.367909</td>\n      <td>24.516391</td>\n      <td>30.114702</td>\n      <td>2274.164124</td>\n      <td>30.309495</td>\n      <td>0.441433</td>\n      <td>2.322228</td>\n    </tr>\n    <tr>\n      <th>min</th>\n      <td>0.000000</td>\n      <td>0.000000</td>\n      <td>18.250000</td>\n      <td>0.000000</td>\n      <td>0.000000</td>\n      <td>0.000000</td>\n      <td>1.000000</td>\n    </tr>\n    <tr>\n      <th>25%</th>\n      <td>0.000000</td>\n      <td>9.000000</td>\n      <td>35.650000</td>\n      <td>401.587500</td>\n      <td>35.917500</td>\n      <td>0.000000</td>\n      <td>2.000000</td>\n    </tr>\n    <tr>\n      <th>50%</th>\n      <td>0.000000</td>\n      <td>29.000000</td>\n      <td>70.400000</td>\n      <td>1408.575000</td>\n      <td>70.450000</td>\n      <td>0.000000</td>\n      <td>4.000000</td>\n    </tr>\n    <tr>\n      <th>75%</th>\n      <td>0.000000</td>\n      <td>56.000000</td>\n      <td>89.900000</td>\n      <td>3841.500000</td>\n      <td>90.290000</td>\n      <td>1.000000</td>\n      <td>6.000000</td>\n    </tr>\n    <tr>\n      <th>max</th>\n      <td>1.000000</td>\n      <td>72.000000</td>\n      <td>118.750000</td>\n      <td>8684.800000</td>\n      <td>121.400000</td>\n      <td>1.000000</td>\n      <td>9.000000</td>\n    </tr>\n  </tbody>\n</table>\n</div>"
     },
     "metadata": {}
    }
   ]
  },
  {
   "cell_type": "code",
   "metadata": {
    "cell_id": "00025-1b2bbf71-2a05-46c7-bd1b-cd4e035d97f3",
    "deepnote_to_be_reexecuted": false,
    "source_hash": "a15093f6",
    "execution_start": 1621866917777,
    "execution_millis": 404,
    "deepnote_cell_type": "code"
   },
   "source": "df['tenure'].plot(kind='hist',  bins=25)\ndf['tenure'].plot(kind='kde', secondary_y=True);",
   "execution_count": 16,
   "outputs": [
    {
     "data": {
      "text/plain": "<Figure size 432x288 with 2 Axes>",
      "image/png": "[encoded data removed]"
     },
     "metadata": {
      "needs_background": "light",
      "image/png": {
       "width": 424,
       "height": 248
      }
     },
     "output_type": "display_data"
    }
   ]
  },
  {
   "cell_type": "code",
   "metadata": {
    "cell_id": "00026-25a252bf-4e47-4f8f-bc54-3be340b50bc9",
    "deepnote_to_be_reexecuted": false,
    "source_hash": "82a6afba",
    "execution_start": 1621866918190,
    "execution_millis": 396,
    "deepnote_cell_type": "code"
   },
   "source": "df['MonthlyCharges'].plot(kind='hist', bins=30)\ndf['MonthlyCharges'].plot(kind='kde', secondary_y=True);",
   "execution_count": 17,
   "outputs": [
    {
     "data": {
      "text/plain": "<Figure size 432x288 with 2 Axes>",
      "image/png": "[encoded data removed]"
     },
     "metadata": {
      "needs_background": "light",
      "image/png": {
       "width": 430,
       "height": 248
      }
     },
     "output_type": "display_data"
    }
   ]
  },
  {
   "cell_type": "code",
   "metadata": {
    "cell_id": "00027-b00f0f82-44e8-485b-a057-10fc19365bd2",
    "deepnote_to_be_reexecuted": false,
    "source_hash": "86599073",
    "execution_start": 1621867039111,
    "execution_millis": 373,
    "deepnote_cell_type": "code"
   },
   "source": "df['AvgMonthlyCharges'].plot(kind='hist', bins=40)\ndf['AvgMonthlyCharges'].plot(kind='kde', secondary_y=True);",
   "execution_count": 32,
   "outputs": [
    {
     "data": {
      "text/plain": "<Figure size 432x288 with 2 Axes>",
      "image/png": "[encoded data removed]"
     },
     "metadata": {
      "needs_background": "light",
      "image/png": {
       "width": 424,
       "height": 250
      }
     },
     "output_type": "display_data"
    }
   ]
  },
  {
   "cell_type": "code",
   "metadata": {
    "cell_id": "00028-f94f3a56-bd43-4d7e-a7d6-de66307550c3",
    "deepnote_to_be_reexecuted": false,
    "source_hash": "da235fb9",
    "execution_start": 1621866918972,
    "execution_millis": 487,
    "deepnote_cell_type": "code"
   },
   "source": "df['TotalCharges'].plot(kind='hist', bins=40)\ndf['TotalCharges'].plot(kind='kde', secondary_y=True);",
   "execution_count": 19,
   "outputs": [
    {
     "data": {
      "text/plain": "<Figure size 432x288 with 2 Axes>",
      "image/png": "[encoded data removed]"
     },
     "metadata": {
      "needs_background": "light",
      "image/png": {
       "width": 443,
       "height": 250
      }
     },
     "output_type": "display_data"
    }
   ]
  },
  {
   "cell_type": "code",
   "metadata": {
    "cell_id": "00029-509d09f8-212e-4e9a-ab4f-44710d49d46d",
    "deepnote_to_be_reexecuted": false,
    "source_hash": "a3f280a",
    "execution_start": 1621866919456,
    "execution_millis": 341,
    "deepnote_cell_type": "code"
   },
   "source": "df.groupby(['Churn']).tenure.plot(kind='hist', bins=40)\nplt.legend()\nplt.show()",
   "execution_count": 20,
   "outputs": [
    {
     "data": {
      "text/plain": "<Figure size 432x288 with 1 Axes>",
      "image/png": "[encoded data removed]"
     },
     "metadata": {
      "needs_background": "light",
      "image/png": {
       "width": 389,
       "height": 248
      }
     },
     "output_type": "display_data"
    }
   ]
  },
  {
   "cell_type": "code",
   "metadata": {
    "cell_id": "00030-7531b20a-6044-49d5-ad02-4b5deeb317ed",
    "deepnote_to_be_reexecuted": false,
    "source_hash": "149324db",
    "execution_start": 1621866919793,
    "execution_millis": 679,
    "deepnote_cell_type": "code"
   },
   "source": "df.groupby(['Churn', 'Partner']).AvgMonthlyCharges.plot(kind='hist', bins=60)\nplt.legend()\nplt.show()",
   "execution_count": 21,
   "outputs": [
    {
     "data": {
      "text/plain": "<Figure size 432x288 with 1 Axes>",
      "image/png": "[encoded data removed]"
     },
     "metadata": {
      "needs_background": "light",
      "image/png": {
       "width": 389,
       "height": 248
      }
     },
     "output_type": "display_data"
    }
   ]
  },
  {
   "cell_type": "code",
   "metadata": {
    "cell_id": "00031-376e6c8b-e7ea-473b-9a3a-84fa98b5f7d3",
    "deepnote_to_be_reexecuted": false,
    "source_hash": "561962d",
    "execution_start": 1621866920469,
    "execution_millis": 381,
    "deepnote_cell_type": "code"
   },
   "source": "ax = df.groupby(['Churn']).MonthlyCharges.plot(kind='hist', bins=60)\nplt.legend()\nplt.show()",
   "execution_count": 22,
   "outputs": [
    {
     "data": {
      "text/plain": "<Figure size 432x288 with 1 Axes>",
      "image/png": "[encoded data removed]"
     },
     "metadata": {
      "needs_background": "light",
      "image/png": {
       "width": 389,
       "height": 248
      }
     },
     "output_type": "display_data"
    }
   ]
  },
  {
   "cell_type": "code",
   "metadata": {
    "cell_id": "00032-ae50cabf-d87e-4eae-a8f0-8d43caf82211",
    "deepnote_to_be_reexecuted": false,
    "source_hash": "1f48ecab",
    "execution_start": 1621866920846,
    "execution_millis": 554,
    "deepnote_cell_type": "code"
   },
   "source": "df.groupby(['Churn', 'SeniorCitizen']).AvgMonthlyCharges.plot(kind='hist', bins=40)\nplt.legend()\nplt.show()",
   "execution_count": 23,
   "outputs": [
    {
     "data": {
      "text/plain": "<Figure size 432x288 with 1 Axes>",
      "image/png": "[encoded data removed]"
     },
     "metadata": {
      "needs_background": "light",
      "image/png": {
       "width": 389,
       "height": 248
      }
     },
     "output_type": "display_data"
    }
   ]
  },
  {
   "cell_type": "code",
   "metadata": {
    "cell_id": "00033-0c6ad1da-d6ca-40df-a404-de926528fd03",
    "deepnote_to_be_reexecuted": false,
    "source_hash": "eb9af2ff",
    "execution_start": 1621866921398,
    "execution_millis": 588,
    "deepnote_cell_type": "code"
   },
   "source": "df.groupby(['Churn', 'SeniorCitizen']).MonthlyCharges.plot(kind='hist', bins=40)\nplt.legend()\nplt.show()",
   "execution_count": 24,
   "outputs": [
    {
     "data": {
      "text/plain": "<Figure size 432x288 with 1 Axes>",
      "image/png": "[encoded data removed]"
     },
     "metadata": {
      "needs_background": "light",
      "image/png": {
       "width": 389,
       "height": 248
      }
     },
     "output_type": "display_data"
    }
   ]
  },
  {
   "cell_type": "code",
   "metadata": {
    "cell_id": "00034-92a48aa1-250f-4391-9be5-6bba8c237d1a",
    "deepnote_to_be_reexecuted": false,
    "source_hash": "44bd619",
    "execution_start": 1621866921982,
    "execution_millis": 153,
    "deepnote_cell_type": "code"
   },
   "source": "ax = df.groupby(['Churn', 'Contract']).Contract.count().plot(kind='bar')\nplt.show()",
   "execution_count": 25,
   "outputs": [
    {
     "data": {
      "text/plain": "<Figure size 432x288 with 1 Axes>",
      "image/png": "[encoded data removed]"
     },
     "metadata": {
      "needs_background": "light",
      "image/png": {
       "width": 381,
       "height": 353
      }
     },
     "output_type": "display_data"
    }
   ]
  },
  {
   "cell_type": "code",
   "metadata": {
    "cell_id": "00035-7f3d7f5b-64dc-46b0-8bab-08425f90d0bf",
    "deepnote_to_be_reexecuted": false,
    "source_hash": "eb2381d",
    "execution_start": 1621866922149,
    "execution_millis": 113,
    "deepnote_cell_type": "code"
   },
   "source": "df['Dependents'].value_counts().plot(kind='bar');",
   "execution_count": 26,
   "outputs": [
    {
     "data": {
      "text/plain": "<Figure size 432x288 with 1 Axes>",
      "image/png": "[encoded data removed]"
     },
     "metadata": {
      "needs_background": "light",
      "image/png": {
       "width": 381,
       "height": 254
      }
     },
     "output_type": "display_data"
    }
   ]
  },
  {
   "cell_type": "code",
   "metadata": {
    "cell_id": "00036-ba42fc7f-d434-479f-9559-835b6cc7d346",
    "deepnote_to_be_reexecuted": false,
    "source_hash": "f21e1986",
    "execution_start": 1621866922258,
    "execution_millis": 491,
    "deepnote_cell_type": "code"
   },
   "source": "df.groupby(['Churn', 'Dependents']).TotalCharges.plot(kind='hist', bins=40)\nplt.legend()\nplt.show()",
   "execution_count": 27,
   "outputs": [
    {
     "data": {
      "text/plain": "<Figure size 432x288 with 1 Axes>",
      "image/png": "[encoded data removed]"
     },
     "metadata": {
      "needs_background": "light",
      "image/png": {
       "width": 389,
       "height": 248
      }
     },
     "output_type": "display_data"
    }
   ]
  },
  {
   "cell_type": "code",
   "metadata": {
    "cell_id": "00037-0719aa6a-cad2-414d-bb0a-31200a163dc8",
    "deepnote_to_be_reexecuted": false,
    "source_hash": "aec33611",
    "execution_start": 1621866922747,
    "execution_millis": 112,
    "deepnote_cell_type": "code"
   },
   "source": "df.Churn.value_counts().plot(kind='pie', autopct='%1.1f%%', shadow=True, startangle=0);",
   "execution_count": 28,
   "outputs": [
    {
     "data": {
      "text/plain": "<Figure size 432x288 with 1 Axes>",
      "image/png": "[encoded data removed]"
     },
     "metadata": {
      "image/png": {
       "width": 245,
       "height": 231
      }
     },
     "output_type": "display_data"
    }
   ]
  },
  {
   "cell_type": "code",
   "metadata": {
    "cell_id": "00038-65065115-af28-4abc-844c-b64b5c94e46f",
    "deepnote_to_be_reexecuted": false,
    "source_hash": "67008d3",
    "execution_start": 1621866922856,
    "execution_millis": 101,
    "deepnote_cell_type": "code"
   },
   "source": "df.InternetService.value_counts().plot(kind='pie', autopct='%1.1f%%', shadow=True, startangle=0);",
   "execution_count": 29,
   "outputs": [
    {
     "data": {
      "text/plain": "<Figure size 432x288 with 1 Axes>",
      "image/png": "[encoded data removed]"
     },
     "metadata": {
      "image/png": {
       "width": 245,
       "height": 231
      }
     },
     "output_type": "display_data"
    }
   ]
  },
  {
   "cell_type": "code",
   "metadata": {
    "cell_id": "00039-77cc779c-f04c-4a8e-9ee0-bafc62476b9f",
    "deepnote_to_be_reexecuted": false,
    "source_hash": "52371b7c",
    "execution_start": 1621866922971,
    "execution_millis": 94,
    "deepnote_cell_type": "code"
   },
   "source": "df.PhoneService.value_counts().plot(kind='pie', autopct='%1.1f%%', shadow=True, startangle=0);",
   "execution_count": 30,
   "outputs": [
    {
     "data": {
      "text/plain": "<Figure size 432x288 with 1 Axes>",
      "image/png": "[encoded data removed]"
     },
     "metadata": {
      "image/png": {
       "width": 245,
       "height": 231
      }
     },
     "output_type": "display_data"
    }
   ]
  },
  {
   "cell_type": "code",
   "metadata": {
    "cell_id": "00040-84a3d918-bfbc-43b5-a715-661f465dea07",
    "deepnote_to_be_reexecuted": false,
    "source_hash": "182a490e",
    "execution_start": 1621866923106,
    "execution_millis": 13,
    "deepnote_cell_type": "code"
   },
   "source": "pd.crosstab(df.StreamingTV, df.StreamingMovies)",
   "execution_count": 31,
   "outputs": [
    {
     "output_type": "execute_result",
     "execution_count": 31,
     "data": {
      "application/vnd.deepnote.dataframe.v2+json": {
       "row_count": 3,
       "column_count": 3,
       "columns": [
        {
         "name": "No",
         "dtype": "int64",
         "stats": {
          "unique_count": 3,
          "nan_count": 0,
          "min": "0",
          "max": "1710",
          "histogram": [
           {
            "bin_start": 0,
            "bin_end": 171,
            "count": 1
           },
           {
            "bin_start": 171,
            "bin_end": 342,
            "count": 0
           },
           {
            "bin_start": 342,
            "bin_end": 513,
            "count": 0
           },
           {
            "bin_start": 513,
            "bin_end": 684,
            "count": 1
           },
           {
            "bin_start": 684,
            "bin_end": 855,
            "count": 0
           },
           {
            "bin_start": 855,
            "bin_end": 1026,
            "count": 0
           },
           {
            "bin_start": 1026,
            "bin_end": 1197,
            "count": 0
           },
           {
            "bin_start": 1197,
            "bin_end": 1368,
            "count": 0
           },
           {
            "bin_start": 1368,
            "bin_end": 1539,
            "count": 0
           },
           {
            "bin_start": 1539,
            "bin_end": 1710,
            "count": 1
           }
          ]
         }
        },
        {
         "name": "No internet service",
         "dtype": "int64",
         "stats": {
          "unique_count": 2,
          "nan_count": 0,
          "min": "0",
          "max": "1291",
          "histogram": [
           {
            "bin_start": 0,
            "bin_end": 129.1,
            "count": 2
           },
           {
            "bin_start": 129.1,
            "bin_end": 258.2,
            "count": 0
           },
           {
            "bin_start": 258.2,
            "bin_end": 387.29999999999995,
            "count": 0
           },
           {
            "bin_start": 387.29999999999995,
            "bin_end": 516.4,
            "count": 0
           },
           {
            "bin_start": 516.4,
            "bin_end": 645.5,
            "count": 0
           },
           {
            "bin_start": 645.5,
            "bin_end": 774.5999999999999,
            "count": 0
           },
           {
            "bin_start": 774.5999999999999,
            "bin_end": 903.6999999999999,
            "count": 0
           },
           {
            "bin_start": 903.6999999999999,
            "bin_end": 1032.8,
            "count": 0
           },
           {
            "bin_start": 1032.8,
            "bin_end": 1161.8999999999999,
            "count": 0
           },
           {
            "bin_start": 1161.8999999999999,
            "bin_end": 1291,
            "count": 1
           }
          ]
         }
        },
        {
         "name": "Yes",
         "dtype": "int64",
         "stats": {
          "unique_count": 3,
          "nan_count": 0,
          "min": "0",
          "max": "1660",
          "histogram": [
           {
            "bin_start": 0,
            "bin_end": 166,
            "count": 1
           },
           {
            "bin_start": 166,
            "bin_end": 332,
            "count": 0
           },
           {
            "bin_start": 332,
            "bin_end": 498,
            "count": 0
           },
           {
            "bin_start": 498,
            "bin_end": 664,
            "count": 0
           },
           {
            "bin_start": 664,
            "bin_end": 830,
            "count": 1
           },
           {
            "bin_start": 830,
            "bin_end": 996,
            "count": 0
           },
           {
            "bin_start": 996,
            "bin_end": 1162,
            "count": 0
           },
           {
            "bin_start": 1162,
            "bin_end": 1328,
            "count": 0
           },
           {
            "bin_start": 1328,
            "bin_end": 1494,
            "count": 0
           },
           {
            "bin_start": 1494,
            "bin_end": 1660,
            "count": 1
           }
          ]
         }
        },
        {
         "name": "_deepnote_index_column",
         "dtype": "object"
        }
       ],
       "rows_top": [
        {
         "No": 1710,
         "No internet service": 0,
         "Yes": 679,
         "_deepnote_index_column": "No"
        },
        {
         "No": 0,
         "No internet service": 1291,
         "Yes": 0,
         "_deepnote_index_column": "No internet service"
        },
        {
         "No": 646,
         "No internet service": 0,
         "Yes": 1660,
         "_deepnote_index_column": "Yes"
        }
       ],
       "rows_bottom": null
      },
      "text/plain": "StreamingMovies        No  No internet service   Yes\nStreamingTV                                         \nNo                   1710                    0   679\nNo internet service     0                 1291     0\nYes                   646                    0  1660",
      "text/html": "<div>\n<style scoped>\n    .dataframe tbody tr th:only-of-type {\n        vertical-align: middle;\n    }\n\n    .dataframe tbody tr th {\n        vertical-align: top;\n    }\n\n    .dataframe thead th {\n        text-align: right;\n    }\n</style>\n<table border=\"1\" class=\"dataframe\">\n  <thead>\n    <tr style=\"text-align: right;\">\n      <th>StreamingMovies</th>\n      <th>No</th>\n      <th>No internet service</th>\n      <th>Yes</th>\n    </tr>\n    <tr>\n      <th>StreamingTV</th>\n      <th></th>\n      <th></th>\n      <th></th>\n    </tr>\n  </thead>\n  <tbody>\n    <tr>\n      <th>No</th>\n      <td>1710</td>\n      <td>0</td>\n      <td>679</td>\n    </tr>\n    <tr>\n      <th>No internet service</th>\n      <td>0</td>\n      <td>1291</td>\n      <td>0</td>\n    </tr>\n    <tr>\n      <th>Yes</th>\n      <td>646</td>\n      <td>0</td>\n      <td>1660</td>\n    </tr>\n  </tbody>\n</table>\n</div>"
     },
     "metadata": {}
    }
   ]
  },
  {
   "cell_type": "markdown",
   "source": "<a style='text-decoration:none;line-height:16px;display:flex;color:#5B5B62;padding:10px;justify-content:end;' href='https://deepnote.com?utm_source=created-in-deepnote-cell&projectId=4e898cb9-a57f-4e4f-afd9-b8a3b338d9dd' target=\"_blank\">\n<img alt='Created in deepnote.com' style='display:inline;max-height:16px;margin:0px;margin-right:7.5px;' src='data:image/svg+xml;base64,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' > </img>\nCreated in <span style='font-weight:600;margin-left:4px;'>Deepnote</span></a>",
   "metadata": {
    "tags": [],
    "created_in_deepnote_cell": true,
    "deepnote_cell_type": "markdown"
   }
  }
 ],
 "nbformat": 4,
 "nbformat_minor": 4,
 "metadata": {
  "kernelspec": {
   "display_name": "Python 3",
   "language": "python",
   "name": "python3"
  },
  "language_info": {
   "codemirror_mode": {
    "name": "ipython",
    "version": 3
   },
   "file_extension": ".py",
   "mimetype": "text/x-python",
   "name": "python",
   "nbconvert_exporter": "python",
   "pygments_lexer": "ipython3",
   "version": "3.7.5"
  },
  "deepnote_notebook_id": "3bdf12fe-5a6f-4e85-b624-9c9bf191e8f8",
  "deepnote": {},
  "deepnote_execution_queue": []
 }
}