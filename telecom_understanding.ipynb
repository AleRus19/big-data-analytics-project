{
 "cells": [
  {
   "cell_type": "markdown",
   "source": "### KDD Process (ricordare cosa dobbiamo fare (indicate dal prof))\n1. Dataset load and features semantics\n1. Data Cleaning (handle missing values, remove useless variables)\n1. Feature Engineering\n1. Classification Preprocessing (feature reshaping, train/test partitioning)\n1. Parameter Tuning\n1. Perform Classification\n1. Analyze the classification results\n1. Analyze the classification performance\n1. Can we improve the performance using another classifier?",
   "metadata": {
    "cell_id": "00000-b57129da-6707-4107-ab30-56ca27ec21eb",
    "deepnote_cell_type": "markdown"
   }
  },
  {
   "cell_type": "code",
   "metadata": {
    "cell_id": "00001-344ef811-fb0c-432f-8460-fa9e50a198ff",
    "deepnote_to_be_reexecuted": false,
    "source_hash": "14fa2eb7",
    "execution_start": 1621876515432,
    "execution_millis": 1642,
    "deepnote_cell_type": "code"
   },
   "source": "import matplotlib.pylab as plt\nimport numpy as np\nimport pandas as pd\n\nfrom scipy.stats import chi2_contingency\nfrom sklearn.preprocessing import LabelEncoder",
   "execution_count": 1,
   "outputs": []
  },
  {
   "cell_type": "markdown",
   "source": "### Dataset load and features semantics",
   "metadata": {
    "cell_id": "00002-babf9d8b-6101-45a5-8f24-f2be230ad122",
    "deepnote_cell_type": "markdown"
   }
  },
  {
   "cell_type": "code",
   "metadata": {
    "scrolled": false,
    "cell_id": "00003-7ea08fe4-54a4-4967-89f6-516e9b10de1e",
    "deepnote_to_be_reexecuted": false,
    "source_hash": "f3033da5",
    "execution_start": 1621876517080,
    "execution_millis": 230,
    "deepnote_cell_type": "code"
   },
   "source": "# load the dataset\ndf = pd.read_csv(\"data/telecom_users.csv\")\ndf.info()",
   "execution_count": 2,
   "outputs": [
    {
     "name": "stdout",
     "text": "<class 'pandas.core.frame.DataFrame'>\nRangeIndex: 5986 entries, 0 to 5985\nData columns (total 22 columns):\n #   Column            Non-Null Count  Dtype  \n---  ------            --------------  -----  \n 0   Unnamed: 0        5986 non-null   int64  \n 1   customerID        5986 non-null   object \n 2   gender            5986 non-null   object \n 3   SeniorCitizen     5986 non-null   int64  \n 4   Partner           5986 non-null   object \n 5   Dependents        5986 non-null   object \n 6   tenure            5986 non-null   int64  \n 7   PhoneService      5986 non-null   object \n 8   MultipleLines     5986 non-null   object \n 9   InternetService   5986 non-null   object \n 10  OnlineSecurity    5986 non-null   object \n 11  OnlineBackup      5986 non-null   object \n 12  DeviceProtection  5986 non-null   object \n 13  TechSupport       5986 non-null   object \n 14  StreamingTV       5986 non-null   object \n 15  StreamingMovies   5986 non-null   object \n 16  Contract          5986 non-null   object \n 17  PaperlessBilling  5986 non-null   object \n 18  PaymentMethod     5986 non-null   object \n 19  MonthlyCharges    5986 non-null   float64\n 20  TotalCharges      5986 non-null   object \n 21  Churn             5986 non-null   object \ndtypes: float64(1), int64(3), object(18)\nmemory usage: 1.0+ MB\n",
     "output_type": "stream"
    }
   ]
  },
  {
   "cell_type": "markdown",
   "source": "- ``customerID``- customer id;\n- ``gender`` - client gender (male / female)\n- ``SeniorCitizen`` - is the client retired (1, 0)\n- ``Partner`` - is the client married (Yes, No)\n- ``Dependents`` - has dependents (Yes, No)\n- ``tenure`` - how many months a person has been a client of the company\n- ``PhoneService`` - is the telephone service connected (Yes, No)\n- ``MultipleLines`` - are multiple phone lines connected (Yes, No, No phone service)\n- ``InternetService`` - client's Internet service provider (DSL, Fiber optic, No)\n- ``OnlineSecurity`` - is the online security service connected (Yes, No, No internet service)\n- ``OnlineBackup`` - is the online backup service activated (Yes, No, No internet service)\n- ``DeviceProtection`` - does the client have equipment insurance (Yes, No, No internet service)\n- ``TechSupport`` - is the technical support service connected (Yes, No, No internet service)\n- ``StreamingTV`` - is the streaming TV service connected (Yes, No, No internet service)\n- ``StreamingMovies`` - is the streaming cinema service activated (Yes, No, No internet service)\n- ``Contract`` - type of customer contract (Month-to-month, One year, Two year)\n- ``PaperlessBilling`` - whether the client uses paperless billing (Yes, No)\n- ``PaymentMethod`` - payment method (Electronic check, Mailed check, Bank transfer (automatic), Credit card (automatic))\n- ``MonthlyCharges`` - current monthly payment\n- ``TotalCharges`` - the total amount that the client paid for the services for the entire time\n- ``Churn`` - whether there was a churn (Yes or No)",
   "metadata": {
    "cell_id": "00004-ffec483b-4753-4e9b-961b-e5dba1289e2d",
    "deepnote_cell_type": "markdown"
   }
  },
  {
   "cell_type": "markdown",
   "source": "## Data cleaning",
   "metadata": {
    "cell_id": "00006-a86b928d-995c-4a43-85b7-ab245c43d5a0",
    "deepnote_cell_type": "markdown"
   }
  },
  {
   "cell_type": "markdown",
   "source": "TotalCharges: In this column there were 10 missing values. Analyzing this records we have noticed that in all of them 'tenure' was zero, so new customers that haven't done still the first payment. So we decided to fill TotalCharges with 0.",
   "metadata": {
    "cell_id": "00007-281be6b1-a005-4173-92e1-34fae2aea112",
    "deepnote_cell_type": "markdown"
   }
  },
  {
   "cell_type": "code",
   "metadata": {
    "cell_id": "00008-62b610f1-c118-40e3-b2c2-0efa120631d9",
    "deepnote_to_be_reexecuted": false,
    "source_hash": "658c1a13",
    "execution_start": 1621876517188,
    "execution_millis": 13,
    "deepnote_cell_type": "code"
   },
   "source": "# Setting total charges for new customers.\ndf['TotalCharges'] = np.where(df['tenure'] == 0, 0, df['TotalCharges'])\ndf['TotalCharges'] = df['TotalCharges'].astype(float)\n\ndf.drop('Unnamed: 0', axis=1, inplace=True)  # Remove useless column.\n\n# Encoding categorical attributes.\nencoders = dict()\nclasses = list()\nattributes = list()\n\nattributes.append(['Partner', 'Dependents', 'PhoneService', 'Churn', 'PaperlessBilling'])\nclasses.append(['No', 'Yes'])\n\nattributes.append(['MultipleLines'])\nclasses.append(['No', 'Yes', 'No phone service'])\n\nattributes.append(['InternetService'])\nclasses.append(['No', 'DSL', 'Fiber optic'])\n\nattributes.append(['OnlineSecurity', 'OnlineBackup', 'DeviceProtection', 'TechSupport', 'StreamingTV', 'StreamingMovies'])\nclasses.append(['No', 'Yes', 'No internet service'])\n\nattributes.append(['Contract'])\nclasses.append(['Month-to-month', 'One year', 'Two year'])\n\nattributes.append(['PaymentMethod'])\nclasses.append(['Electronic check', 'Mailed check', 'Bank transfer (automatic)', 'Credit card (automatic)'])\n\nfor attribute_list, class_list in zip(attributes, classes):\n    for attribute in attribute_list:\n        encoder = LabelEncoder().fit(df[attribute])\n        encoder.classes_ = class_list\n        df[attribute] = encoder.transform(df[attribute])\n        encoders[attribute] = encoder",
   "execution_count": 3,
   "outputs": []
  },
  {
   "cell_type": "markdown",
   "source": "### Feature Engineering",
   "metadata": {
    "cell_id": "00016-10dc83c1-8c66-409a-90ef-53b39e72568d",
    "deepnote_cell_type": "markdown"
   }
  },
  {
   "cell_type": "code",
   "metadata": {
    "cell_id": "00017-16470989-8016-4ed3-9bdd-64ba5062dc3e",
    "deepnote_to_be_reexecuted": false,
    "source_hash": "158868a0",
    "execution_start": 1621876517202,
    "execution_millis": 35,
    "deepnote_cell_type": "code"
   },
   "source": "# Average monthly charges.\ndf['AvgMonthlyCharges'] = np.where(df['tenure'] == 0, \n                                   df['TotalCharges'],\n                                   df['TotalCharges'] / df['tenure']).round(decimals=2)\n\n# Compute number of active services.\ndf['Nservices'] = (df[df.columns[6:15]] == 'Yes').sum(axis=1)\n\n# InternetService is not Yes or No, but it has 3 values.\ndf['Nservices'] = np.where(df['InternetService'] == 'No', df['Nservices'], df['Nservices'] + 1)\n\n# Difference between current monthly charge and the average for each customer.\ndf['Difference'] = (df['AvgMonthlyCharges'] - df['MonthlyCharges']).round(decimals=2)\n\n# Moving Churn to last position.\nchurn = df.pop('Churn')\ndf.insert(len(df.columns), 'Churn', churn)",
   "execution_count": 4,
   "outputs": []
  },
  {
   "cell_type": "markdown",
   "source": "- Phone service implies MultipleLines\n- InternetService implies OtherServices",
   "metadata": {
    "cell_id": "00020-1bc65820-bb7e-4663-913c-c922ec1e5c23",
    "deepnote_cell_type": "markdown"
   }
  },
  {
   "cell_type": "markdown",
   "source": "## Exploratory Analysis ",
   "metadata": {
    "cell_id": "00023-74b2bf4c-c0ec-466d-a374-1cce4c990b3a",
    "deepnote_cell_type": "markdown"
   }
  },
  {
   "cell_type": "code",
   "metadata": {
    "cell_id": "00024-33f20b08-5314-4a23-8d3e-f43624c1a58d",
    "deepnote_to_be_reexecuted": false,
    "source_hash": "f88152d9",
    "execution_start": 1621876517237,
    "execution_millis": 182,
    "deepnote_cell_type": "code"
   },
   "source": "df.describe()",
   "execution_count": 5,
   "outputs": [
    {
     "output_type": "execute_result",
     "execution_count": 5,
     "data": {
      "application/vnd.deepnote.dataframe.v2+json": {
       "row_count": 8,
       "column_count": 22,
       "columns": [
        {
         "name": "SeniorCitizen",
         "dtype": "float64",
         "stats": {
          "unique_count": 5,
          "nan_count": 0,
          "min": "0.0",
          "max": "5986.0",
          "histogram": [
           {
            "bin_start": 0,
            "bin_end": 598.6,
            "count": 7
           },
           {
            "bin_start": 598.6,
            "bin_end": 1197.2,
            "count": 0
           },
           {
            "bin_start": 1197.2,
            "bin_end": 1795.8000000000002,
            "count": 0
           },
           {
            "bin_start": 1795.8000000000002,
            "bin_end": 2394.4,
            "count": 0
           },
           {
            "bin_start": 2394.4,
            "bin_end": 2993,
            "count": 0
           },
           {
            "bin_start": 2993,
            "bin_end": 3591.6000000000004,
            "count": 0
           },
           {
            "bin_start": 3591.6000000000004,
            "bin_end": 4190.2,
            "count": 0
           },
           {
            "bin_start": 4190.2,
            "bin_end": 4788.8,
            "count": 0
           },
           {
            "bin_start": 4788.8,
            "bin_end": 5387.400000000001,
            "count": 0
           },
           {
            "bin_start": 5387.400000000001,
            "bin_end": 5986,
            "count": 1
           }
          ]
         }
        },
        {
         "name": "Partner",
         "dtype": "float64",
         "stats": {
          "unique_count": 5,
          "nan_count": 0,
          "min": "0.0",
          "max": "5986.0",
          "histogram": [
           {
            "bin_start": 0,
            "bin_end": 598.6,
            "count": 7
           },
           {
            "bin_start": 598.6,
            "bin_end": 1197.2,
            "count": 0
           },
           {
            "bin_start": 1197.2,
            "bin_end": 1795.8000000000002,
            "count": 0
           },
           {
            "bin_start": 1795.8000000000002,
            "bin_end": 2394.4,
            "count": 0
           },
           {
            "bin_start": 2394.4,
            "bin_end": 2993,
            "count": 0
           },
           {
            "bin_start": 2993,
            "bin_end": 3591.6000000000004,
            "count": 0
           },
           {
            "bin_start": 3591.6000000000004,
            "bin_end": 4190.2,
            "count": 0
           },
           {
            "bin_start": 4190.2,
            "bin_end": 4788.8,
            "count": 0
           },
           {
            "bin_start": 4788.8,
            "bin_end": 5387.400000000001,
            "count": 0
           },
           {
            "bin_start": 5387.400000000001,
            "bin_end": 5986,
            "count": 1
           }
          ]
         }
        },
        {
         "name": "Dependents",
         "dtype": "float64",
         "stats": {
          "unique_count": 5,
          "nan_count": 0,
          "min": "0.0",
          "max": "5986.0",
          "histogram": [
           {
            "bin_start": 0,
            "bin_end": 598.6,
            "count": 7
           },
           {
            "bin_start": 598.6,
            "bin_end": 1197.2,
            "count": 0
           },
           {
            "bin_start": 1197.2,
            "bin_end": 1795.8000000000002,
            "count": 0
           },
           {
            "bin_start": 1795.8000000000002,
            "bin_end": 2394.4,
            "count": 0
           },
           {
            "bin_start": 2394.4,
            "bin_end": 2993,
            "count": 0
           },
           {
            "bin_start": 2993,
            "bin_end": 3591.6000000000004,
            "count": 0
           },
           {
            "bin_start": 3591.6000000000004,
            "bin_end": 4190.2,
            "count": 0
           },
           {
            "bin_start": 4190.2,
            "bin_end": 4788.8,
            "count": 0
           },
           {
            "bin_start": 4788.8,
            "bin_end": 5387.400000000001,
            "count": 0
           },
           {
            "bin_start": 5387.400000000001,
            "bin_end": 5986,
            "count": 1
           }
          ]
         }
        },
        {
         "name": "tenure",
         "dtype": "float64",
         "stats": {
          "unique_count": 8,
          "nan_count": 0,
          "min": "0.0",
          "max": "5986.0",
          "histogram": [
           {
            "bin_start": 0,
            "bin_end": 598.6,
            "count": 7
           },
           {
            "bin_start": 598.6,
            "bin_end": 1197.2,
            "count": 0
           },
           {
            "bin_start": 1197.2,
            "bin_end": 1795.8000000000002,
            "count": 0
           },
           {
            "bin_start": 1795.8000000000002,
            "bin_end": 2394.4,
            "count": 0
           },
           {
            "bin_start": 2394.4,
            "bin_end": 2993,
            "count": 0
           },
           {
            "bin_start": 2993,
            "bin_end": 3591.6000000000004,
            "count": 0
           },
           {
            "bin_start": 3591.6000000000004,
            "bin_end": 4190.2,
            "count": 0
           },
           {
            "bin_start": 4190.2,
            "bin_end": 4788.8,
            "count": 0
           },
           {
            "bin_start": 4788.8,
            "bin_end": 5387.400000000001,
            "count": 0
           },
           {
            "bin_start": 5387.400000000001,
            "bin_end": 5986,
            "count": 1
           }
          ]
         }
        },
        {
         "name": "PhoneService",
         "dtype": "float64",
         "stats": {
          "unique_count": 5,
          "nan_count": 0,
          "min": "0.0",
          "max": "5986.0",
          "histogram": [
           {
            "bin_start": 0,
            "bin_end": 598.6,
            "count": 7
           },
           {
            "bin_start": 598.6,
            "bin_end": 1197.2,
            "count": 0
           },
           {
            "bin_start": 1197.2,
            "bin_end": 1795.8000000000002,
            "count": 0
           },
           {
            "bin_start": 1795.8000000000002,
            "bin_end": 2394.4,
            "count": 0
           },
           {
            "bin_start": 2394.4,
            "bin_end": 2993,
            "count": 0
           },
           {
            "bin_start": 2993,
            "bin_end": 3591.6000000000004,
            "count": 0
           },
           {
            "bin_start": 3591.6000000000004,
            "bin_end": 4190.2,
            "count": 0
           },
           {
            "bin_start": 4190.2,
            "bin_end": 4788.8,
            "count": 0
           },
           {
            "bin_start": 4788.8,
            "bin_end": 5387.400000000001,
            "count": 0
           },
           {
            "bin_start": 5387.400000000001,
            "bin_end": 5986,
            "count": 1
           }
          ]
         }
        },
        {
         "name": "MultipleLines",
         "dtype": "float64",
         "stats": {
          "unique_count": 6,
          "nan_count": 0,
          "min": "0.0",
          "max": "5986.0",
          "histogram": [
           {
            "bin_start": 0,
            "bin_end": 598.6,
            "count": 7
           },
           {
            "bin_start": 598.6,
            "bin_end": 1197.2,
            "count": 0
           },
           {
            "bin_start": 1197.2,
            "bin_end": 1795.8000000000002,
            "count": 0
           },
           {
            "bin_start": 1795.8000000000002,
            "bin_end": 2394.4,
            "count": 0
           },
           {
            "bin_start": 2394.4,
            "bin_end": 2993,
            "count": 0
           },
           {
            "bin_start": 2993,
            "bin_end": 3591.6000000000004,
            "count": 0
           },
           {
            "bin_start": 3591.6000000000004,
            "bin_end": 4190.2,
            "count": 0
           },
           {
            "bin_start": 4190.2,
            "bin_end": 4788.8,
            "count": 0
           },
           {
            "bin_start": 4788.8,
            "bin_end": 5387.400000000001,
            "count": 0
           },
           {
            "bin_start": 5387.400000000001,
            "bin_end": 5986,
            "count": 1
           }
          ]
         }
        },
        {
         "name": "InternetService",
         "dtype": "float64",
         "stats": {
          "unique_count": 6,
          "nan_count": 0,
          "min": "0.0",
          "max": "5986.0",
          "histogram": [
           {
            "bin_start": 0,
            "bin_end": 598.6,
            "count": 7
           },
           {
            "bin_start": 598.6,
            "bin_end": 1197.2,
            "count": 0
           },
           {
            "bin_start": 1197.2,
            "bin_end": 1795.8000000000002,
            "count": 0
           },
           {
            "bin_start": 1795.8000000000002,
            "bin_end": 2394.4,
            "count": 0
           },
           {
            "bin_start": 2394.4,
            "bin_end": 2993,
            "count": 0
           },
           {
            "bin_start": 2993,
            "bin_end": 3591.6000000000004,
            "count": 0
           },
           {
            "bin_start": 3591.6000000000004,
            "bin_end": 4190.2,
            "count": 0
           },
           {
            "bin_start": 4190.2,
            "bin_end": 4788.8,
            "count": 0
           },
           {
            "bin_start": 4788.8,
            "bin_end": 5387.400000000001,
            "count": 0
           },
           {
            "bin_start": 5387.400000000001,
            "bin_end": 5986,
            "count": 1
           }
          ]
         }
        },
        {
         "name": "OnlineSecurity",
         "dtype": "float64",
         "stats": {
          "unique_count": 6,
          "nan_count": 0,
          "min": "0.0",
          "max": "5986.0",
          "histogram": [
           {
            "bin_start": 0,
            "bin_end": 598.6,
            "count": 7
           },
           {
            "bin_start": 598.6,
            "bin_end": 1197.2,
            "count": 0
           },
           {
            "bin_start": 1197.2,
            "bin_end": 1795.8000000000002,
            "count": 0
           },
           {
            "bin_start": 1795.8000000000002,
            "bin_end": 2394.4,
            "count": 0
           },
           {
            "bin_start": 2394.4,
            "bin_end": 2993,
            "count": 0
           },
           {
            "bin_start": 2993,
            "bin_end": 3591.6000000000004,
            "count": 0
           },
           {
            "bin_start": 3591.6000000000004,
            "bin_end": 4190.2,
            "count": 0
           },
           {
            "bin_start": 4190.2,
            "bin_end": 4788.8,
            "count": 0
           },
           {
            "bin_start": 4788.8,
            "bin_end": 5387.400000000001,
            "count": 0
           },
           {
            "bin_start": 5387.400000000001,
            "bin_end": 5986,
            "count": 1
           }
          ]
         }
        },
        {
         "name": "OnlineBackup",
         "dtype": "float64",
         "stats": {
          "unique_count": 6,
          "nan_count": 0,
          "min": "0.0",
          "max": "5986.0",
          "histogram": [
           {
            "bin_start": 0,
            "bin_end": 598.6,
            "count": 7
           },
           {
            "bin_start": 598.6,
            "bin_end": 1197.2,
            "count": 0
           },
           {
            "bin_start": 1197.2,
            "bin_end": 1795.8000000000002,
            "count": 0
           },
           {
            "bin_start": 1795.8000000000002,
            "bin_end": 2394.4,
            "count": 0
           },
           {
            "bin_start": 2394.4,
            "bin_end": 2993,
            "count": 0
           },
           {
            "bin_start": 2993,
            "bin_end": 3591.6000000000004,
            "count": 0
           },
           {
            "bin_start": 3591.6000000000004,
            "bin_end": 4190.2,
            "count": 0
           },
           {
            "bin_start": 4190.2,
            "bin_end": 4788.8,
            "count": 0
           },
           {
            "bin_start": 4788.8,
            "bin_end": 5387.400000000001,
            "count": 0
           },
           {
            "bin_start": 5387.400000000001,
            "bin_end": 5986,
            "count": 1
           }
          ]
         }
        },
        {
         "name": "DeviceProtection",
         "dtype": "float64",
         "stats": {
          "unique_count": 6,
          "nan_count": 0,
          "min": "0.0",
          "max": "5986.0",
          "histogram": [
           {
            "bin_start": 0,
            "bin_end": 598.6,
            "count": 7
           },
           {
            "bin_start": 598.6,
            "bin_end": 1197.2,
            "count": 0
           },
           {
            "bin_start": 1197.2,
            "bin_end": 1795.8000000000002,
            "count": 0
           },
           {
            "bin_start": 1795.8000000000002,
            "bin_end": 2394.4,
            "count": 0
           },
           {
            "bin_start": 2394.4,
            "bin_end": 2993,
            "count": 0
           },
           {
            "bin_start": 2993,
            "bin_end": 3591.6000000000004,
            "count": 0
           },
           {
            "bin_start": 3591.6000000000004,
            "bin_end": 4190.2,
            "count": 0
           },
           {
            "bin_start": 4190.2,
            "bin_end": 4788.8,
            "count": 0
           },
           {
            "bin_start": 4788.8,
            "bin_end": 5387.400000000001,
            "count": 0
           },
           {
            "bin_start": 5387.400000000001,
            "bin_end": 5986,
            "count": 1
           }
          ]
         }
        },
        {
         "name": "TechSupport",
         "dtype": "float64",
         "stats": {
          "unique_count": 6,
          "nan_count": 0,
          "min": "0.0",
          "max": "5986.0",
          "histogram": [
           {
            "bin_start": 0,
            "bin_end": 598.6,
            "count": 7
           },
           {
            "bin_start": 598.6,
            "bin_end": 1197.2,
            "count": 0
           },
           {
            "bin_start": 1197.2,
            "bin_end": 1795.8000000000002,
            "count": 0
           },
           {
            "bin_start": 1795.8000000000002,
            "bin_end": 2394.4,
            "count": 0
           },
           {
            "bin_start": 2394.4,
            "bin_end": 2993,
            "count": 0
           },
           {
            "bin_start": 2993,
            "bin_end": 3591.6000000000004,
            "count": 0
           },
           {
            "bin_start": 3591.6000000000004,
            "bin_end": 4190.2,
            "count": 0
           },
           {
            "bin_start": 4190.2,
            "bin_end": 4788.8,
            "count": 0
           },
           {
            "bin_start": 4788.8,
            "bin_end": 5387.400000000001,
            "count": 0
           },
           {
            "bin_start": 5387.400000000001,
            "bin_end": 5986,
            "count": 1
           }
          ]
         }
        },
        {
         "name": "StreamingTV",
         "dtype": "float64",
         "stats": {
          "unique_count": 6,
          "nan_count": 0,
          "min": "0.0",
          "max": "5986.0",
          "histogram": [
           {
            "bin_start": 0,
            "bin_end": 598.6,
            "count": 7
           },
           {
            "bin_start": 598.6,
            "bin_end": 1197.2,
            "count": 0
           },
           {
            "bin_start": 1197.2,
            "bin_end": 1795.8000000000002,
            "count": 0
           },
           {
            "bin_start": 1795.8000000000002,
            "bin_end": 2394.4,
            "count": 0
           },
           {
            "bin_start": 2394.4,
            "bin_end": 2993,
            "count": 0
           },
           {
            "bin_start": 2993,
            "bin_end": 3591.6000000000004,
            "count": 0
           },
           {
            "bin_start": 3591.6000000000004,
            "bin_end": 4190.2,
            "count": 0
           },
           {
            "bin_start": 4190.2,
            "bin_end": 4788.8,
            "count": 0
           },
           {
            "bin_start": 4788.8,
            "bin_end": 5387.400000000001,
            "count": 0
           },
           {
            "bin_start": 5387.400000000001,
            "bin_end": 5986,
            "count": 1
           }
          ]
         }
        },
        {
         "name": "StreamingMovies",
         "dtype": "float64",
         "stats": {
          "unique_count": 6,
          "nan_count": 0,
          "min": "0.0",
          "max": "5986.0",
          "histogram": [
           {
            "bin_start": 0,
            "bin_end": 598.6,
            "count": 7
           },
           {
            "bin_start": 598.6,
            "bin_end": 1197.2,
            "count": 0
           },
           {
            "bin_start": 1197.2,
            "bin_end": 1795.8000000000002,
            "count": 0
           },
           {
            "bin_start": 1795.8000000000002,
            "bin_end": 2394.4,
            "count": 0
           },
           {
            "bin_start": 2394.4,
            "bin_end": 2993,
            "count": 0
           },
           {
            "bin_start": 2993,
            "bin_end": 3591.6000000000004,
            "count": 0
           },
           {
            "bin_start": 3591.6000000000004,
            "bin_end": 4190.2,
            "count": 0
           },
           {
            "bin_start": 4190.2,
            "bin_end": 4788.8,
            "count": 0
           },
           {
            "bin_start": 4788.8,
            "bin_end": 5387.400000000001,
            "count": 0
           },
           {
            "bin_start": 5387.400000000001,
            "bin_end": 5986,
            "count": 1
           }
          ]
         }
        },
        {
         "name": "Contract",
         "dtype": "float64",
         "stats": {
          "unique_count": 6,
          "nan_count": 0,
          "min": "0.0",
          "max": "5986.0",
          "histogram": [
           {
            "bin_start": 0,
            "bin_end": 598.6,
            "count": 7
           },
           {
            "bin_start": 598.6,
            "bin_end": 1197.2,
            "count": 0
           },
           {
            "bin_start": 1197.2,
            "bin_end": 1795.8000000000002,
            "count": 0
           },
           {
            "bin_start": 1795.8000000000002,
            "bin_end": 2394.4,
            "count": 0
           },
           {
            "bin_start": 2394.4,
            "bin_end": 2993,
            "count": 0
           },
           {
            "bin_start": 2993,
            "bin_end": 3591.6000000000004,
            "count": 0
           },
           {
            "bin_start": 3591.6000000000004,
            "bin_end": 4190.2,
            "count": 0
           },
           {
            "bin_start": 4190.2,
            "bin_end": 4788.8,
            "count": 0
           },
           {
            "bin_start": 4788.8,
            "bin_end": 5387.400000000001,
            "count": 0
           },
           {
            "bin_start": 5387.400000000001,
            "bin_end": 5986,
            "count": 1
           }
          ]
         }
        },
        {
         "name": "PaperlessBilling",
         "dtype": "float64",
         "stats": {
          "unique_count": 5,
          "nan_count": 0,
          "min": "0.0",
          "max": "5986.0",
          "histogram": [
           {
            "bin_start": 0,
            "bin_end": 598.6,
            "count": 7
           },
           {
            "bin_start": 598.6,
            "bin_end": 1197.2,
            "count": 0
           },
           {
            "bin_start": 1197.2,
            "bin_end": 1795.8000000000002,
            "count": 0
           },
           {
            "bin_start": 1795.8000000000002,
            "bin_end": 2394.4,
            "count": 0
           },
           {
            "bin_start": 2394.4,
            "bin_end": 2993,
            "count": 0
           },
           {
            "bin_start": 2993,
            "bin_end": 3591.6000000000004,
            "count": 0
           },
           {
            "bin_start": 3591.6000000000004,
            "bin_end": 4190.2,
            "count": 0
           },
           {
            "bin_start": 4190.2,
            "bin_end": 4788.8,
            "count": 0
           },
           {
            "bin_start": 4788.8,
            "bin_end": 5387.400000000001,
            "count": 0
           },
           {
            "bin_start": 5387.400000000001,
            "bin_end": 5986,
            "count": 1
           }
          ]
         }
        },
        {
         "name": "PaymentMethod",
         "dtype": "float64",
         "stats": {
          "unique_count": 7,
          "nan_count": 0,
          "min": "0.0",
          "max": "5986.0",
          "histogram": [
           {
            "bin_start": 0,
            "bin_end": 598.6,
            "count": 7
           },
           {
            "bin_start": 598.6,
            "bin_end": 1197.2,
            "count": 0
           },
           {
            "bin_start": 1197.2,
            "bin_end": 1795.8000000000002,
            "count": 0
           },
           {
            "bin_start": 1795.8000000000002,
            "bin_end": 2394.4,
            "count": 0
           },
           {
            "bin_start": 2394.4,
            "bin_end": 2993,
            "count": 0
           },
           {
            "bin_start": 2993,
            "bin_end": 3591.6000000000004,
            "count": 0
           },
           {
            "bin_start": 3591.6000000000004,
            "bin_end": 4190.2,
            "count": 0
           },
           {
            "bin_start": 4190.2,
            "bin_end": 4788.8,
            "count": 0
           },
           {
            "bin_start": 4788.8,
            "bin_end": 5387.400000000001,
            "count": 0
           },
           {
            "bin_start": 5387.400000000001,
            "bin_end": 5986,
            "count": 1
           }
          ]
         }
        },
        {
         "name": "MonthlyCharges",
         "dtype": "float64",
         "stats": {
          "unique_count": 8,
          "nan_count": 0,
          "min": "18.25",
          "max": "5986.0",
          "histogram": [
           {
            "bin_start": 18.25,
            "bin_end": 615.025,
            "count": 7
           },
           {
            "bin_start": 615.025,
            "bin_end": 1211.8,
            "count": 0
           },
           {
            "bin_start": 1211.8,
            "bin_end": 1808.5749999999998,
            "count": 0
           },
           {
            "bin_start": 1808.5749999999998,
            "bin_end": 2405.35,
            "count": 0
           },
           {
            "bin_start": 2405.35,
            "bin_end": 3002.125,
            "count": 0
           },
           {
            "bin_start": 3002.125,
            "bin_end": 3598.8999999999996,
            "count": 0
           },
           {
            "bin_start": 3598.8999999999996,
            "bin_end": 4195.675,
            "count": 0
           },
           {
            "bin_start": 4195.675,
            "bin_end": 4792.45,
            "count": 0
           },
           {
            "bin_start": 4792.45,
            "bin_end": 5389.224999999999,
            "count": 0
           },
           {
            "bin_start": 5389.224999999999,
            "bin_end": 5986,
            "count": 1
           }
          ]
         }
        },
        {
         "name": "TotalCharges",
         "dtype": "float64",
         "stats": {
          "unique_count": 8,
          "nan_count": 0,
          "min": "0.0",
          "max": "8684.8",
          "histogram": [
           {
            "bin_start": 0,
            "bin_end": 868.4799999999999,
            "count": 2
           },
           {
            "bin_start": 868.4799999999999,
            "bin_end": 1736.9599999999998,
            "count": 1
           },
           {
            "bin_start": 1736.9599999999998,
            "bin_end": 2605.4399999999996,
            "count": 2
           },
           {
            "bin_start": 2605.4399999999996,
            "bin_end": 3473.9199999999996,
            "count": 0
           },
           {
            "bin_start": 3473.9199999999996,
            "bin_end": 4342.4,
            "count": 1
           },
           {
            "bin_start": 4342.4,
            "bin_end": 5210.879999999999,
            "count": 0
           },
           {
            "bin_start": 5210.879999999999,
            "bin_end": 6079.36,
            "count": 1
           },
           {
            "bin_start": 6079.36,
            "bin_end": 6947.839999999999,
            "count": 0
           },
           {
            "bin_start": 6947.839999999999,
            "bin_end": 7816.319999999999,
            "count": 0
           },
           {
            "bin_start": 7816.319999999999,
            "bin_end": 8684.8,
            "count": 1
           }
          ]
         }
        },
        {
         "name": "AvgMonthlyCharges",
         "dtype": "float64",
         "stats": {
          "unique_count": 8,
          "nan_count": 0,
          "min": "0.0",
          "max": "5986.0",
          "histogram": [
           {
            "bin_start": 0,
            "bin_end": 598.6,
            "count": 7
           },
           {
            "bin_start": 598.6,
            "bin_end": 1197.2,
            "count": 0
           },
           {
            "bin_start": 1197.2,
            "bin_end": 1795.8000000000002,
            "count": 0
           },
           {
            "bin_start": 1795.8000000000002,
            "bin_end": 2394.4,
            "count": 0
           },
           {
            "bin_start": 2394.4,
            "bin_end": 2993,
            "count": 0
           },
           {
            "bin_start": 2993,
            "bin_end": 3591.6000000000004,
            "count": 0
           },
           {
            "bin_start": 3591.6000000000004,
            "bin_end": 4190.2,
            "count": 0
           },
           {
            "bin_start": 4190.2,
            "bin_end": 4788.8,
            "count": 0
           },
           {
            "bin_start": 4788.8,
            "bin_end": 5387.400000000001,
            "count": 0
           },
           {
            "bin_start": 5387.400000000001,
            "bin_end": 5986,
            "count": 1
           }
          ]
         }
        },
        {
         "name": "Nservices",
         "dtype": "float64",
         "stats": {
          "unique_count": 3,
          "nan_count": 0,
          "min": "0.0",
          "max": "5986.0",
          "histogram": [
           {
            "bin_start": 0,
            "bin_end": 598.6,
            "count": 7
           },
           {
            "bin_start": 598.6,
            "bin_end": 1197.2,
            "count": 0
           },
           {
            "bin_start": 1197.2,
            "bin_end": 1795.8000000000002,
            "count": 0
           },
           {
            "bin_start": 1795.8000000000002,
            "bin_end": 2394.4,
            "count": 0
           },
           {
            "bin_start": 2394.4,
            "bin_end": 2993,
            "count": 0
           },
           {
            "bin_start": 2993,
            "bin_end": 3591.6000000000004,
            "count": 0
           },
           {
            "bin_start": 3591.6000000000004,
            "bin_end": 4190.2,
            "count": 0
           },
           {
            "bin_start": 4190.2,
            "bin_end": 4788.8,
            "count": 0
           },
           {
            "bin_start": 4788.8,
            "bin_end": 5387.400000000001,
            "count": 0
           },
           {
            "bin_start": 5387.400000000001,
            "bin_end": 5986,
            "count": 1
           }
          ]
         }
        },
        {
         "name": "Difference",
         "dtype": "float64",
         "stats": {
          "unique_count": 8,
          "nan_count": 0,
          "min": "-80.85",
          "max": "5986.0",
          "histogram": [
           {
            "bin_start": -80.85,
            "bin_end": 525.835,
            "count": 7
           },
           {
            "bin_start": 525.835,
            "bin_end": 1132.5200000000002,
            "count": 0
           },
           {
            "bin_start": 1132.5200000000002,
            "bin_end": 1739.2050000000004,
            "count": 0
           },
           {
            "bin_start": 1739.2050000000004,
            "bin_end": 2345.8900000000003,
            "count": 0
           },
           {
            "bin_start": 2345.8900000000003,
            "bin_end": 2952.5750000000003,
            "count": 0
           },
           {
            "bin_start": 2952.5750000000003,
            "bin_end": 3559.2600000000007,
            "count": 0
           },
           {
            "bin_start": 3559.2600000000007,
            "bin_end": 4165.945,
            "count": 0
           },
           {
            "bin_start": 4165.945,
            "bin_end": 4772.63,
            "count": 0
           },
           {
            "bin_start": 4772.63,
            "bin_end": 5379.3150000000005,
            "count": 0
           },
           {
            "bin_start": 5379.3150000000005,
            "bin_end": 5986,
            "count": 1
           }
          ]
         }
        },
        {
         "name": "Churn",
         "dtype": "float64",
         "stats": {
          "unique_count": 5,
          "nan_count": 0,
          "min": "0.0",
          "max": "5986.0",
          "histogram": [
           {
            "bin_start": 0,
            "bin_end": 598.6,
            "count": 7
           },
           {
            "bin_start": 598.6,
            "bin_end": 1197.2,
            "count": 0
           },
           {
            "bin_start": 1197.2,
            "bin_end": 1795.8000000000002,
            "count": 0
           },
           {
            "bin_start": 1795.8000000000002,
            "bin_end": 2394.4,
            "count": 0
           },
           {
            "bin_start": 2394.4,
            "bin_end": 2993,
            "count": 0
           },
           {
            "bin_start": 2993,
            "bin_end": 3591.6000000000004,
            "count": 0
           },
           {
            "bin_start": 3591.6000000000004,
            "bin_end": 4190.2,
            "count": 0
           },
           {
            "bin_start": 4190.2,
            "bin_end": 4788.8,
            "count": 0
           },
           {
            "bin_start": 4788.8,
            "bin_end": 5387.400000000001,
            "count": 0
           },
           {
            "bin_start": 5387.400000000001,
            "bin_end": 5986,
            "count": 1
           }
          ]
         }
        },
        {
         "name": "_deepnote_index_column",
         "dtype": "object"
        }
       ],
       "rows_top": [
        {
         "SeniorCitizen": 5986,
         "Partner": 5986,
         "Dependents": 5986,
         "tenure": 5986,
         "PhoneService": 5986,
         "MultipleLines": 5986,
         "InternetService": 5986,
         "OnlineSecurity": 5986,
         "OnlineBackup": 5986,
         "DeviceProtection": 5986,
         "TechSupport": 5986,
         "StreamingTV": 5986,
         "StreamingMovies": 5986,
         "Contract": 5986,
         "PaperlessBilling": 5986,
         "PaymentMethod": 5986,
         "MonthlyCharges": 5986,
         "TotalCharges": 5986,
         "AvgMonthlyCharges": 5986,
         "Nservices": 5986,
         "Difference": 5986,
         "Churn": 5986,
         "_deepnote_index_column": "count"
        },
        {
         "SeniorCitizen": 0.16137654527230202,
         "Partner": 0.4851319746074173,
         "Dependents": 0.29919812896759107,
         "tenure": 32.46876044102907,
         "PhoneService": 0.9014366855997327,
         "MultipleLines": 0.6227865018376211,
         "InternetService": 1.2231874373538256,
         "OnlineSecurity": 0.7175075175409288,
         "OnlineBackup": 0.7804878048780488,
         "DeviceProtection": 0.7746408286000668,
         "TechSupport": 0.7211827597728032,
         "StreamingTV": 0.8165720013364517,
         "StreamingMovies": 0.8220848646842632,
         "Contract": 0.6946207818242566,
         "PaperlessBilling": 0.5893752088205814,
         "PaymentMethod": 1.3187437353825593,
         "MonthlyCharges": 64.80221349816237,
         "TotalCharges": 2294.2215586368193,
         "AvgMonthlyCharges": 64.73567156698964,
         "Nservices": 1,
         "Difference": -0.06654193117273638,
         "Churn": 0.2651186100902105,
         "_deepnote_index_column": "mean"
        },
        {
         "SeniorCitizen": 0.3679086410122601,
         "Partner": 0.49982064381131747,
         "Dependents": 0.45794502138324233,
         "tenure": 24.51639063752673,
         "PhoneService": 0.29809970255878787,
         "MultipleLines": 0.6573600935482006,
         "InternetService": 0.7776989368473394,
         "OnlineSecurity": 0.7963266975410658,
         "OnlineBackup": 0.7763807572978493,
         "DeviceProtection": 0.7784686548474715,
         "TechSupport": 0.7953135525022731,
         "StreamingTV": 0.7623772407548355,
         "StreamingMovies": 0.7600642347309094,
         "Contract": 0.8328837673733405,
         "PaperlessBilling": 0.49198832149219757,
         "PaymentMethod": 1.1501942702415917,
         "MonthlyCharges": 30.114701633888114,
         "TotalCharges": 2274.164123638949,
         "AvgMonthlyCharges": 30.309495144781703,
         "Nservices": 0,
         "Difference": 3.174003599575965,
         "Churn": 0.4414332178775785,
         "_deepnote_index_column": "std"
        },
        {
         "SeniorCitizen": 0,
         "Partner": 0,
         "Dependents": 0,
         "tenure": 0,
         "PhoneService": 0,
         "MultipleLines": 0,
         "InternetService": 0,
         "OnlineSecurity": 0,
         "OnlineBackup": 0,
         "DeviceProtection": 0,
         "TechSupport": 0,
         "StreamingTV": 0,
         "StreamingMovies": 0,
         "Contract": 0,
         "PaperlessBilling": 0,
         "PaymentMethod": 0,
         "MonthlyCharges": 18.25,
         "TotalCharges": 0,
         "AvgMonthlyCharges": 0,
         "Nservices": 1,
         "Difference": -80.85,
         "Churn": 0,
         "_deepnote_index_column": "min"
        },
        {
         "SeniorCitizen": 0,
         "Partner": 0,
         "Dependents": 0,
         "tenure": 9,
         "PhoneService": 1,
         "MultipleLines": 0,
         "InternetService": 1,
         "OnlineSecurity": 0,
         "OnlineBackup": 0,
         "DeviceProtection": 0,
         "TechSupport": 0,
         "StreamingTV": 0,
         "StreamingMovies": 0,
         "Contract": 0,
         "PaperlessBilling": 0,
         "PaymentMethod": 0,
         "MonthlyCharges": 35.65,
         "TotalCharges": 401.5875,
         "AvgMonthlyCharges": 35.9175,
         "Nservices": 1,
         "Difference": -1.13,
         "Churn": 0,
         "_deepnote_index_column": "25%"
        },
        {
         "SeniorCitizen": 0,
         "Partner": 0,
         "Dependents": 0,
         "tenure": 29,
         "PhoneService": 1,
         "MultipleLines": 1,
         "InternetService": 1,
         "OnlineSecurity": 1,
         "OnlineBackup": 1,
         "DeviceProtection": 1,
         "TechSupport": 1,
         "StreamingTV": 1,
         "StreamingMovies": 1,
         "Contract": 0,
         "PaperlessBilling": 1,
         "PaymentMethod": 1,
         "MonthlyCharges": 70.4,
         "TotalCharges": 1408.575,
         "AvgMonthlyCharges": 70.45,
         "Nservices": 1,
         "Difference": 0,
         "Churn": 0,
         "_deepnote_index_column": "50%"
        },
        {
         "SeniorCitizen": 0,
         "Partner": 1,
         "Dependents": 1,
         "tenure": 56,
         "PhoneService": 1,
         "MultipleLines": 1,
         "InternetService": 2,
         "OnlineSecurity": 1,
         "OnlineBackup": 1,
         "DeviceProtection": 1,
         "TechSupport": 1,
         "StreamingTV": 1,
         "StreamingMovies": 1,
         "Contract": 1,
         "PaperlessBilling": 1,
         "PaymentMethod": 2,
         "MonthlyCharges": 89.9,
         "TotalCharges": 3841.5,
         "AvgMonthlyCharges": 90.29,
         "Nservices": 1,
         "Difference": 1.16,
         "Churn": 1,
         "_deepnote_index_column": "75%"
        },
        {
         "SeniorCitizen": 1,
         "Partner": 1,
         "Dependents": 1,
         "tenure": 72,
         "PhoneService": 1,
         "MultipleLines": 2,
         "InternetService": 2,
         "OnlineSecurity": 2,
         "OnlineBackup": 2,
         "DeviceProtection": 2,
         "TechSupport": 2,
         "StreamingTV": 2,
         "StreamingMovies": 2,
         "Contract": 2,
         "PaperlessBilling": 1,
         "PaymentMethod": 3,
         "MonthlyCharges": 118.75,
         "TotalCharges": 8684.8,
         "AvgMonthlyCharges": 121.4,
         "Nservices": 1,
         "Difference": 18.9,
         "Churn": 1,
         "_deepnote_index_column": "max"
        }
       ],
       "rows_bottom": null
      },
      "text/plain": "       SeniorCitizen      Partner   Dependents       tenure  PhoneService  \\\ncount    5986.000000  5986.000000  5986.000000  5986.000000   5986.000000   \nmean        0.161377     0.485132     0.299198    32.468760      0.901437   \nstd         0.367909     0.499821     0.457945    24.516391      0.298100   \nmin         0.000000     0.000000     0.000000     0.000000      0.000000   \n25%         0.000000     0.000000     0.000000     9.000000      1.000000   \n50%         0.000000     0.000000     0.000000    29.000000      1.000000   \n75%         0.000000     1.000000     1.000000    56.000000      1.000000   \nmax         1.000000     1.000000     1.000000    72.000000      1.000000   \n\n       MultipleLines  InternetService  OnlineSecurity  OnlineBackup  \\\ncount    5986.000000      5986.000000     5986.000000   5986.000000   \nmean        0.622787         1.223187        0.717508      0.780488   \nstd         0.657360         0.777699        0.796327      0.776381   \nmin         0.000000         0.000000        0.000000      0.000000   \n25%         0.000000         1.000000        0.000000      0.000000   \n50%         1.000000         1.000000        1.000000      1.000000   \n75%         1.000000         2.000000        1.000000      1.000000   \nmax         2.000000         2.000000        2.000000      2.000000   \n\n       DeviceProtection  ...  StreamingMovies     Contract  PaperlessBilling  \\\ncount       5986.000000  ...      5986.000000  5986.000000       5986.000000   \nmean           0.774641  ...         0.822085     0.694621          0.589375   \nstd            0.778469  ...         0.760064     0.832884          0.491988   \nmin            0.000000  ...         0.000000     0.000000          0.000000   \n25%            0.000000  ...         0.000000     0.000000          0.000000   \n50%            1.000000  ...         1.000000     0.000000          1.000000   \n75%            1.000000  ...         1.000000     1.000000          1.000000   \nmax            2.000000  ...         2.000000     2.000000          1.000000   \n\n       PaymentMethod  MonthlyCharges  TotalCharges  AvgMonthlyCharges  \\\ncount    5986.000000     5986.000000   5986.000000        5986.000000   \nmean        1.318744       64.802213   2294.221559          64.735672   \nstd         1.150194       30.114702   2274.164124          30.309495   \nmin         0.000000       18.250000      0.000000           0.000000   \n25%         0.000000       35.650000    401.587500          35.917500   \n50%         1.000000       70.400000   1408.575000          70.450000   \n75%         2.000000       89.900000   3841.500000          90.290000   \nmax         3.000000      118.750000   8684.800000         121.400000   \n\n       Nservices   Difference        Churn  \ncount     5986.0  5986.000000  5986.000000  \nmean         1.0    -0.066542     0.265119  \nstd          0.0     3.174004     0.441433  \nmin          1.0   -80.850000     0.000000  \n25%          1.0    -1.130000     0.000000  \n50%          1.0     0.000000     0.000000  \n75%          1.0     1.160000     1.000000  \nmax          1.0    18.900000     1.000000  \n\n[8 rows x 22 columns]",
      "text/html": "<div>\n<style scoped>\n    .dataframe tbody tr th:only-of-type {\n        vertical-align: middle;\n    }\n\n    .dataframe tbody tr th {\n        vertical-align: top;\n    }\n\n    .dataframe thead th {\n        text-align: right;\n    }\n</style>\n<table border=\"1\" class=\"dataframe\">\n  <thead>\n    <tr style=\"text-align: right;\">\n      <th></th>\n      <th>SeniorCitizen</th>\n      <th>Partner</th>\n      <th>Dependents</th>\n      <th>tenure</th>\n      <th>PhoneService</th>\n      <th>MultipleLines</th>\n      <th>InternetService</th>\n      <th>OnlineSecurity</th>\n      <th>OnlineBackup</th>\n      <th>DeviceProtection</th>\n      <th>...</th>\n      <th>StreamingMovies</th>\n      <th>Contract</th>\n      <th>PaperlessBilling</th>\n      <th>PaymentMethod</th>\n      <th>MonthlyCharges</th>\n      <th>TotalCharges</th>\n      <th>AvgMonthlyCharges</th>\n      <th>Nservices</th>\n      <th>Difference</th>\n      <th>Churn</th>\n    </tr>\n  </thead>\n  <tbody>\n    <tr>\n      <th>count</th>\n      <td>5986.000000</td>\n      <td>5986.000000</td>\n      <td>5986.000000</td>\n      <td>5986.000000</td>\n      <td>5986.000000</td>\n      <td>5986.000000</td>\n      <td>5986.000000</td>\n      <td>5986.000000</td>\n      <td>5986.000000</td>\n      <td>5986.000000</td>\n      <td>...</td>\n      <td>5986.000000</td>\n      <td>5986.000000</td>\n      <td>5986.000000</td>\n      <td>5986.000000</td>\n      <td>5986.000000</td>\n      <td>5986.000000</td>\n      <td>5986.000000</td>\n      <td>5986.0</td>\n      <td>5986.000000</td>\n      <td>5986.000000</td>\n    </tr>\n    <tr>\n      <th>mean</th>\n      <td>0.161377</td>\n      <td>0.485132</td>\n      <td>0.299198</td>\n      <td>32.468760</td>\n      <td>0.901437</td>\n      <td>0.622787</td>\n      <td>1.223187</td>\n      <td>0.717508</td>\n      <td>0.780488</td>\n      <td>0.774641</td>\n      <td>...</td>\n      <td>0.822085</td>\n      <td>0.694621</td>\n      <td>0.589375</td>\n      <td>1.318744</td>\n      <td>64.802213</td>\n      <td>2294.221559</td>\n      <td>64.735672</td>\n      <td>1.0</td>\n      <td>-0.066542</td>\n      <td>0.265119</td>\n    </tr>\n    <tr>\n      <th>std</th>\n      <td>0.367909</td>\n      <td>0.499821</td>\n      <td>0.457945</td>\n      <td>24.516391</td>\n      <td>0.298100</td>\n      <td>0.657360</td>\n      <td>0.777699</td>\n      <td>0.796327</td>\n      <td>0.776381</td>\n      <td>0.778469</td>\n      <td>...</td>\n      <td>0.760064</td>\n      <td>0.832884</td>\n      <td>0.491988</td>\n      <td>1.150194</td>\n      <td>30.114702</td>\n      <td>2274.164124</td>\n      <td>30.309495</td>\n      <td>0.0</td>\n      <td>3.174004</td>\n      <td>0.441433</td>\n    </tr>\n    <tr>\n      <th>min</th>\n      <td>0.000000</td>\n      <td>0.000000</td>\n      <td>0.000000</td>\n      <td>0.000000</td>\n      <td>0.000000</td>\n      <td>0.000000</td>\n      <td>0.000000</td>\n      <td>0.000000</td>\n      <td>0.000000</td>\n      <td>0.000000</td>\n      <td>...</td>\n      <td>0.000000</td>\n      <td>0.000000</td>\n      <td>0.000000</td>\n      <td>0.000000</td>\n      <td>18.250000</td>\n      <td>0.000000</td>\n      <td>0.000000</td>\n      <td>1.0</td>\n      <td>-80.850000</td>\n      <td>0.000000</td>\n    </tr>\n    <tr>\n      <th>25%</th>\n      <td>0.000000</td>\n      <td>0.000000</td>\n      <td>0.000000</td>\n      <td>9.000000</td>\n      <td>1.000000</td>\n      <td>0.000000</td>\n      <td>1.000000</td>\n      <td>0.000000</td>\n      <td>0.000000</td>\n      <td>0.000000</td>\n      <td>...</td>\n      <td>0.000000</td>\n      <td>0.000000</td>\n      <td>0.000000</td>\n      <td>0.000000</td>\n      <td>35.650000</td>\n      <td>401.587500</td>\n      <td>35.917500</td>\n      <td>1.0</td>\n      <td>-1.130000</td>\n      <td>0.000000</td>\n    </tr>\n    <tr>\n      <th>50%</th>\n      <td>0.000000</td>\n      <td>0.000000</td>\n      <td>0.000000</td>\n      <td>29.000000</td>\n      <td>1.000000</td>\n      <td>1.000000</td>\n      <td>1.000000</td>\n      <td>1.000000</td>\n      <td>1.000000</td>\n      <td>1.000000</td>\n      <td>...</td>\n      <td>1.000000</td>\n      <td>0.000000</td>\n      <td>1.000000</td>\n      <td>1.000000</td>\n      <td>70.400000</td>\n      <td>1408.575000</td>\n      <td>70.450000</td>\n      <td>1.0</td>\n      <td>0.000000</td>\n      <td>0.000000</td>\n    </tr>\n    <tr>\n      <th>75%</th>\n      <td>0.000000</td>\n      <td>1.000000</td>\n      <td>1.000000</td>\n      <td>56.000000</td>\n      <td>1.000000</td>\n      <td>1.000000</td>\n      <td>2.000000</td>\n      <td>1.000000</td>\n      <td>1.000000</td>\n      <td>1.000000</td>\n      <td>...</td>\n      <td>1.000000</td>\n      <td>1.000000</td>\n      <td>1.000000</td>\n      <td>2.000000</td>\n      <td>89.900000</td>\n      <td>3841.500000</td>\n      <td>90.290000</td>\n      <td>1.0</td>\n      <td>1.160000</td>\n      <td>1.000000</td>\n    </tr>\n    <tr>\n      <th>max</th>\n      <td>1.000000</td>\n      <td>1.000000</td>\n      <td>1.000000</td>\n      <td>72.000000</td>\n      <td>1.000000</td>\n      <td>2.000000</td>\n      <td>2.000000</td>\n      <td>2.000000</td>\n      <td>2.000000</td>\n      <td>2.000000</td>\n      <td>...</td>\n      <td>2.000000</td>\n      <td>2.000000</td>\n      <td>1.000000</td>\n      <td>3.000000</td>\n      <td>118.750000</td>\n      <td>8684.800000</td>\n      <td>121.400000</td>\n      <td>1.0</td>\n      <td>18.900000</td>\n      <td>1.000000</td>\n    </tr>\n  </tbody>\n</table>\n<p>8 rows × 22 columns</p>\n</div>"
     },
     "metadata": {}
    }
   ]
  },
  {
   "cell_type": "code",
   "metadata": {
    "cell_id": "00025-1b2bbf71-2a05-46c7-bd1b-cd4e035d97f3",
    "deepnote_to_be_reexecuted": false,
    "source_hash": "9e7be649",
    "execution_start": 1621876517382,
    "execution_millis": 482,
    "deepnote_cell_type": "code"
   },
   "source": "df['tenure'].plot(kind='hist', bins=25)\ndf['tenure'].plot(kind='kde', secondary_y=True);",
   "execution_count": 6,
   "outputs": [
    {
     "data": {
      "text/plain": "<Figure size 432x288 with 2 Axes>",
      "image/png": "[encoded data removed]"
     },
     "metadata": {
      "needs_background": "light",
      "image/png": {
       "width": 424,
       "height": 248
      }
     },
     "output_type": "display_data"
    }
   ]
  },
  {
   "cell_type": "code",
   "metadata": {
    "cell_id": "00026-25a252bf-4e47-4f8f-bc54-3be340b50bc9",
    "deepnote_to_be_reexecuted": false,
    "source_hash": "82a6afba",
    "execution_start": 1621876517840,
    "execution_millis": 398,
    "deepnote_cell_type": "code"
   },
   "source": "df['MonthlyCharges'].plot(kind='hist', bins=30)\ndf['MonthlyCharges'].plot(kind='kde', secondary_y=True);",
   "execution_count": 7,
   "outputs": [
    {
     "data": {
      "text/plain": "<Figure size 432x288 with 2 Axes>",
      "image/png": "[encoded data removed]"
     },
     "metadata": {
      "needs_background": "light",
      "image/png": {
       "width": 430,
       "height": 248
      }
     },
     "output_type": "display_data"
    }
   ]
  },
  {
   "cell_type": "code",
   "metadata": {
    "cell_id": "00027-b00f0f82-44e8-485b-a057-10fc19365bd2",
    "deepnote_to_be_reexecuted": false,
    "source_hash": "86599073",
    "execution_start": 1621876518229,
    "execution_millis": 409,
    "deepnote_cell_type": "code"
   },
   "source": "df['AvgMonthlyCharges'].plot(kind='hist', bins=40)\ndf['AvgMonthlyCharges'].plot(kind='kde', secondary_y=True);",
   "execution_count": 8,
   "outputs": [
    {
     "data": {
      "text/plain": "<Figure size 432x288 with 2 Axes>",
      "image/png": "[encoded data removed]"
     },
     "metadata": {
      "needs_background": "light",
      "image/png": {
       "width": 424,
       "height": 250
      }
     },
     "output_type": "display_data"
    }
   ]
  },
  {
   "cell_type": "code",
   "metadata": {
    "cell_id": "00028-f94f3a56-bd43-4d7e-a7d6-de66307550c3",
    "deepnote_to_be_reexecuted": false,
    "source_hash": "da235fb9",
    "execution_start": 1621876518635,
    "execution_millis": 446,
    "deepnote_cell_type": "code"
   },
   "source": "df['TotalCharges'].plot(kind='hist', bins=40)\ndf['TotalCharges'].plot(kind='kde', secondary_y=True);",
   "execution_count": 9,
   "outputs": [
    {
     "data": {
      "text/plain": "<Figure size 432x288 with 2 Axes>",
      "image/png": "[encoded data removed]"
     },
     "metadata": {
      "needs_background": "light",
      "image/png": {
       "width": 443,
       "height": 250
      }
     },
     "output_type": "display_data"
    }
   ]
  },
  {
   "cell_type": "code",
   "metadata": {
    "cell_id": "00029-509d09f8-212e-4e9a-ab4f-44710d49d46d",
    "deepnote_to_be_reexecuted": false,
    "source_hash": "a3f280a",
    "execution_start": 1621876519121,
    "execution_millis": 305,
    "deepnote_cell_type": "code"
   },
   "source": "df.groupby(['Churn']).tenure.plot(kind='hist', bins=40)\nplt.legend()\nplt.show()",
   "execution_count": 10,
   "outputs": [
    {
     "data": {
      "text/plain": "<Figure size 432x288 with 1 Axes>",
      "image/png": "[encoded data removed]"
     },
     "metadata": {
      "needs_background": "light",
      "image/png": {
       "width": 389,
       "height": 248
      }
     },
     "output_type": "display_data"
    }
   ]
  },
  {
   "cell_type": "code",
   "metadata": {
    "cell_id": "00030-7531b20a-6044-49d5-ad02-4b5deeb317ed",
    "deepnote_to_be_reexecuted": false,
    "source_hash": "ff7bd1d6",
    "execution_start": 1621876519422,
    "execution_millis": 640,
    "deepnote_cell_type": "code"
   },
   "source": "df.groupby(['Churn', 'Partner']).AvgMonthlyCharges.plot(kind='hist', bins=60)\nplt.legend()\nplt.show()",
   "execution_count": 11,
   "outputs": [
    {
     "data": {
      "text/plain": "<Figure size 432x288 with 1 Axes>",
      "image/png": "[encoded data removed]"
     },
     "metadata": {
      "needs_background": "light",
      "image/png": {
       "width": 389,
       "height": 248
      }
     },
     "output_type": "display_data"
    }
   ]
  },
  {
   "cell_type": "code",
   "metadata": {
    "cell_id": "00031-376e6c8b-e7ea-473b-9a3a-84fa98b5f7d3",
    "deepnote_to_be_reexecuted": false,
    "source_hash": "561962d",
    "execution_start": 1621876520077,
    "execution_millis": 327,
    "deepnote_cell_type": "code"
   },
   "source": "ax = df.groupby(['Churn']).MonthlyCharges.plot(kind='hist', bins=60)\nplt.legend()\nplt.show()",
   "execution_count": 12,
   "outputs": [
    {
     "data": {
      "text/plain": "<Figure size 432x288 with 1 Axes>",
      "image/png": "[encoded data removed]"
     },
     "metadata": {
      "needs_background": "light",
      "image/png": {
       "width": 389,
       "height": 248
      }
     },
     "output_type": "display_data"
    }
   ]
  },
  {
   "cell_type": "code",
   "metadata": {
    "cell_id": "00032-ae50cabf-d87e-4eae-a8f0-8d43caf82211",
    "deepnote_to_be_reexecuted": false,
    "source_hash": "2f494833",
    "execution_start": 1621876520433,
    "execution_millis": 474,
    "deepnote_cell_type": "code"
   },
   "source": "df.groupby(['Churn', 'SeniorCitizen']).AvgMonthlyCharges.plot(kind='hist', bins=40)\nplt.legend()\nplt.show()",
   "execution_count": 13,
   "outputs": [
    {
     "data": {
      "text/plain": "<Figure size 432x288 with 1 Axes>",
      "image/png": "[encoded data removed]"
     },
     "metadata": {
      "needs_background": "light",
      "image/png": {
       "width": 389,
       "height": 248
      }
     },
     "output_type": "display_data"
    }
   ]
  },
  {
   "cell_type": "code",
   "metadata": {
    "cell_id": "00033-0c6ad1da-d6ca-40df-a404-de926528fd03",
    "deepnote_to_be_reexecuted": false,
    "source_hash": "f7cb2366",
    "execution_start": 1621876520925,
    "execution_millis": 560,
    "deepnote_cell_type": "code"
   },
   "source": "df.groupby(['Churn', 'SeniorCitizen']).MonthlyCharges.plot(kind='hist', bins=40)\nplt.legend()\nplt.show()",
   "execution_count": 14,
   "outputs": [
    {
     "data": {
      "text/plain": "<Figure size 432x288 with 1 Axes>",
      "image/png": "[encoded data removed]"
     },
     "metadata": {
      "needs_background": "light",
      "image/png": {
       "width": 389,
       "height": 248
      }
     },
     "output_type": "display_data"
    }
   ]
  },
  {
   "cell_type": "code",
   "metadata": {
    "cell_id": "00034-92a48aa1-250f-4391-9be5-6bba8c237d1a",
    "deepnote_to_be_reexecuted": false,
    "source_hash": "102f6960",
    "execution_start": 1621876521525,
    "execution_millis": 138,
    "deepnote_cell_type": "code"
   },
   "source": "ax = df.groupby(['Churn', 'Contract']).Contract.count().plot(kind='bar')\nplt.show()",
   "execution_count": 15,
   "outputs": [
    {
     "data": {
      "text/plain": "<Figure size 432x288 with 1 Axes>",
      "image/png": "[encoded data removed]"
     },
     "metadata": {
      "needs_background": "light",
      "image/png": {
       "width": 381,
       "height": 279
      }
     },
     "output_type": "display_data"
    }
   ]
  },
  {
   "cell_type": "code",
   "metadata": {
    "cell_id": "00035-7f3d7f5b-64dc-46b0-8bab-08425f90d0bf",
    "deepnote_to_be_reexecuted": false,
    "source_hash": "eb2381d",
    "execution_start": 1621876521656,
    "execution_millis": 83,
    "deepnote_cell_type": "code"
   },
   "source": "df['Dependents'].value_counts().plot(kind='bar');",
   "execution_count": 16,
   "outputs": [
    {
     "data": {
      "text/plain": "<Figure size 432x288 with 1 Axes>",
      "image/png": "[encoded data removed]"
     },
     "metadata": {
      "needs_background": "light",
      "image/png": {
       "width": 381,
       "height": 245
      }
     },
     "output_type": "display_data"
    }
   ]
  },
  {
   "cell_type": "code",
   "metadata": {
    "cell_id": "00036-ba42fc7f-d434-479f-9559-835b6cc7d346",
    "deepnote_to_be_reexecuted": false,
    "source_hash": "d3babb0f",
    "execution_start": 1621876521732,
    "execution_millis": 470,
    "deepnote_cell_type": "code"
   },
   "source": "df.groupby(['Churn', 'Dependents']).TotalCharges.plot(kind='hist', bins=40)\nplt.legend()\nplt.show()",
   "execution_count": 17,
   "outputs": [
    {
     "data": {
      "text/plain": "<Figure size 432x288 with 1 Axes>",
      "image/png": "[encoded data removed]"
     },
     "metadata": {
      "needs_background": "light",
      "image/png": {
       "width": 389,
       "height": 248
      }
     },
     "output_type": "display_data"
    }
   ]
  },
  {
   "cell_type": "code",
   "metadata": {
    "cell_id": "00037-0719aa6a-cad2-414d-bb0a-31200a163dc8",
    "deepnote_to_be_reexecuted": false,
    "source_hash": "aec33611",
    "execution_start": 1621876522194,
    "execution_millis": 98,
    "deepnote_cell_type": "code"
   },
   "source": "df.Churn.value_counts().plot(kind='pie', autopct='%1.1f%%', shadow=True, startangle=0);",
   "execution_count": 18,
   "outputs": [
    {
     "data": {
      "text/plain": "<Figure size 432x288 with 1 Axes>",
      "image/png": "[encoded data removed]"
     },
     "metadata": {
      "image/png": {
       "width": 245,
       "height": 231
      }
     },
     "output_type": "display_data"
    }
   ]
  },
  {
   "cell_type": "code",
   "metadata": {
    "cell_id": "00038-65065115-af28-4abc-844c-b64b5c94e46f",
    "deepnote_to_be_reexecuted": false,
    "source_hash": "67008d3",
    "execution_start": 1621876522286,
    "execution_millis": 98,
    "deepnote_cell_type": "code"
   },
   "source": "df.InternetService.value_counts().plot(kind='pie', autopct='%1.1f%%', shadow=True, startangle=0);",
   "execution_count": 19,
   "outputs": [
    {
     "data": {
      "text/plain": "<Figure size 432x288 with 1 Axes>",
      "image/png": "[encoded data removed]"
     },
     "metadata": {
      "image/png": {
       "width": 245,
       "height": 231
      }
     },
     "output_type": "display_data"
    }
   ]
  },
  {
   "cell_type": "code",
   "metadata": {
    "cell_id": "00039-77cc779c-f04c-4a8e-9ee0-bafc62476b9f",
    "deepnote_to_be_reexecuted": false,
    "source_hash": "52371b7c",
    "execution_start": 1621876522382,
    "execution_millis": 126,
    "deepnote_cell_type": "code"
   },
   "source": "df.PhoneService.value_counts().plot(kind='pie', autopct='%1.1f%%', shadow=True, startangle=0);",
   "execution_count": 20,
   "outputs": [
    {
     "data": {
      "text/plain": "<Figure size 432x288 with 1 Axes>",
      "image/png": "[encoded data removed]"
     },
     "metadata": {
      "image/png": {
       "width": 245,
       "height": 231
      }
     },
     "output_type": "display_data"
    }
   ]
  },
  {
   "cell_type": "code",
   "metadata": {
    "cell_id": "00040-84a3d918-bfbc-43b5-a715-661f465dea07",
    "deepnote_to_be_reexecuted": false,
    "source_hash": "182a490e",
    "execution_start": 1621876522505,
    "execution_millis": 26,
    "deepnote_cell_type": "code"
   },
   "source": "pd.crosstab(df.StreamingTV, df.StreamingMovies)",
   "execution_count": 21,
   "outputs": [
    {
     "output_type": "execute_result",
     "execution_count": 21,
     "data": {
      "application/vnd.deepnote.dataframe.v2+json": {
       "row_count": 3,
       "column_count": 3,
       "columns": [
        {
         "name": 0,
         "dtype": "int64",
         "stats": {
          "unique_count": 3,
          "nan_count": 0,
          "min": "0",
          "max": "1710",
          "histogram": [
           {
            "bin_start": 0,
            "bin_end": 171,
            "count": 1
           },
           {
            "bin_start": 171,
            "bin_end": 342,
            "count": 0
           },
           {
            "bin_start": 342,
            "bin_end": 513,
            "count": 0
           },
           {
            "bin_start": 513,
            "bin_end": 684,
            "count": 1
           },
           {
            "bin_start": 684,
            "bin_end": 855,
            "count": 0
           },
           {
            "bin_start": 855,
            "bin_end": 1026,
            "count": 0
           },
           {
            "bin_start": 1026,
            "bin_end": 1197,
            "count": 0
           },
           {
            "bin_start": 1197,
            "bin_end": 1368,
            "count": 0
           },
           {
            "bin_start": 1368,
            "bin_end": 1539,
            "count": 0
           },
           {
            "bin_start": 1539,
            "bin_end": 1710,
            "count": 1
           }
          ]
         }
        },
        {
         "name": 1,
         "dtype": "int64",
         "stats": {
          "unique_count": 3,
          "nan_count": 0,
          "min": "0",
          "max": "1660",
          "histogram": [
           {
            "bin_start": 0,
            "bin_end": 166,
            "count": 1
           },
           {
            "bin_start": 166,
            "bin_end": 332,
            "count": 0
           },
           {
            "bin_start": 332,
            "bin_end": 498,
            "count": 0
           },
           {
            "bin_start": 498,
            "bin_end": 664,
            "count": 0
           },
           {
            "bin_start": 664,
            "bin_end": 830,
            "count": 1
           },
           {
            "bin_start": 830,
            "bin_end": 996,
            "count": 0
           },
           {
            "bin_start": 996,
            "bin_end": 1162,
            "count": 0
           },
           {
            "bin_start": 1162,
            "bin_end": 1328,
            "count": 0
           },
           {
            "bin_start": 1328,
            "bin_end": 1494,
            "count": 0
           },
           {
            "bin_start": 1494,
            "bin_end": 1660,
            "count": 1
           }
          ]
         }
        },
        {
         "name": 2,
         "dtype": "int64",
         "stats": {
          "unique_count": 2,
          "nan_count": 0,
          "min": "0",
          "max": "1291",
          "histogram": [
           {
            "bin_start": 0,
            "bin_end": 129.1,
            "count": 2
           },
           {
            "bin_start": 129.1,
            "bin_end": 258.2,
            "count": 0
           },
           {
            "bin_start": 258.2,
            "bin_end": 387.29999999999995,
            "count": 0
           },
           {
            "bin_start": 387.29999999999995,
            "bin_end": 516.4,
            "count": 0
           },
           {
            "bin_start": 516.4,
            "bin_end": 645.5,
            "count": 0
           },
           {
            "bin_start": 645.5,
            "bin_end": 774.5999999999999,
            "count": 0
           },
           {
            "bin_start": 774.5999999999999,
            "bin_end": 903.6999999999999,
            "count": 0
           },
           {
            "bin_start": 903.6999999999999,
            "bin_end": 1032.8,
            "count": 0
           },
           {
            "bin_start": 1032.8,
            "bin_end": 1161.8999999999999,
            "count": 0
           },
           {
            "bin_start": 1161.8999999999999,
            "bin_end": 1291,
            "count": 1
           }
          ]
         }
        },
        {
         "name": "_deepnote_index_column",
         "dtype": "int64"
        }
       ],
       "rows_top": [
        {
         "0": 1710,
         "1": 679,
         "2": 0,
         "_deepnote_index_column": 0
        },
        {
         "0": 646,
         "1": 1660,
         "2": 0,
         "_deepnote_index_column": 1
        },
        {
         "0": 0,
         "1": 0,
         "2": 1291,
         "_deepnote_index_column": 2
        }
       ],
       "rows_bottom": null
      },
      "text/plain": "StreamingMovies     0     1     2\nStreamingTV                      \n0                1710   679     0\n1                 646  1660     0\n2                   0     0  1291",
      "text/html": "<div>\n<style scoped>\n    .dataframe tbody tr th:only-of-type {\n        vertical-align: middle;\n    }\n\n    .dataframe tbody tr th {\n        vertical-align: top;\n    }\n\n    .dataframe thead th {\n        text-align: right;\n    }\n</style>\n<table border=\"1\" class=\"dataframe\">\n  <thead>\n    <tr style=\"text-align: right;\">\n      <th>StreamingMovies</th>\n      <th>0</th>\n      <th>1</th>\n      <th>2</th>\n    </tr>\n    <tr>\n      <th>StreamingTV</th>\n      <th></th>\n      <th></th>\n      <th></th>\n    </tr>\n  </thead>\n  <tbody>\n    <tr>\n      <th>0</th>\n      <td>1710</td>\n      <td>679</td>\n      <td>0</td>\n    </tr>\n    <tr>\n      <th>1</th>\n      <td>646</td>\n      <td>1660</td>\n      <td>0</td>\n    </tr>\n    <tr>\n      <th>2</th>\n      <td>0</td>\n      <td>0</td>\n      <td>1291</td>\n    </tr>\n  </tbody>\n</table>\n</div>"
     },
     "metadata": {}
    }
   ]
  },
  {
   "cell_type": "markdown",
   "source": "<a style='text-decoration:none;line-height:16px;display:flex;color:#5B5B62;padding:10px;justify-content:end;' href='https://deepnote.com?utm_source=created-in-deepnote-cell&projectId=4e898cb9-a57f-4e4f-afd9-b8a3b338d9dd' target=\"_blank\">\n<img alt='Created in deepnote.com' style='display:inline;max-height:16px;margin:0px;margin-right:7.5px;' src='data:image/svg+xml;base64,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' > </img>\nCreated in <span style='font-weight:600;margin-left:4px;'>Deepnote</span></a>",
   "metadata": {
    "tags": [],
    "created_in_deepnote_cell": true,
    "deepnote_cell_type": "markdown"
   }
  }
 ],
 "nbformat": 4,
 "nbformat_minor": 4,
 "metadata": {
  "kernelspec": {
   "display_name": "Python 3",
   "language": "python",
   "name": "python3"
  },
  "language_info": {
   "codemirror_mode": {
    "name": "ipython",
    "version": 3
   },
   "file_extension": ".py",
   "mimetype": "text/x-python",
   "name": "python",
   "nbconvert_exporter": "python",
   "pygments_lexer": "ipython3",
   "version": "3.7.5"
  },
  "deepnote_notebook_id": "3bdf12fe-5a6f-4e85-b624-9c9bf191e8f8",
  "deepnote": {},
  "deepnote_execution_queue": []
 }
}